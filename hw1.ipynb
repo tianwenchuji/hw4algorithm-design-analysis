{
 "cells": [
  {
   "cell_type": "markdown",
   "metadata": {},
   "source": [
    "## algorithm design and anlysis-2025 spring  homework 1 \n",
    "**Deadline**：2025.5.14\n",
    "\n",
    "**name**:\n",
    "\n",
    "\n",
    "note：\n",
    "---\n",
    "1. 带有\\*的题目，申请免上课的同学，必须完成，其他同学选作；\n",
    "2. 请独立完成，如求助了他人或者大模型，请著明，并且不可省略算法分析部分；\n",
    "4. 如若作答有雷同，全部取消成绩；\n",
    "3. 需要书面作答的题目，可以通过引用图片的形式添加，但是注意上传项目时包含所引用的图片的源文件；\n",
    "4. $log_n$ 默认表示$log_2{n}$;"
   ]
  },
  {
   "cell_type": "markdown",
   "metadata": {},
   "source": [
    "## 问题 1\n",
    "\n",
    "对于下面的每一对表达式(A, B), A是否能表示为B的 $\\Theta, \\Omega ,O$形式. 请注意, 这些关系中的零个、一个或多个可能成立。列出所有正确的。经常发生一些学生会,把指示写错, 所以请把关系写完整, 例如: $A = O(B),  A =\\Theta(B)$, 或$A = \\Omega(B)$。\n",
    "\n",
    "1. $A=n^2-100n, B=n^2$\n",
    "2. $A=logn, B=log_{1.2}n$\n",
    "3. $A=3^{2n}, B=2^{4n}$\n",
    "4. $A=2^{logn}, B=n$\n",
    "5. $A=\\log{\\log}{n},B=10^{10^{100}}$"
   ]
  },
  {
   "cell_type": "markdown",
   "metadata": {},
   "source": [
    "can refer a handwritten picture, pleas upload the picture in /fig/xxx.png\n",
    "answer:\n"
   ]
  },
  {
   "cell_type": "markdown",
   "metadata": {},
   "source": [
    "<img src=\"./fig/hw1q1.jpg\" width=\"35%\" alt=\"图片描述\">"
   ]
  },
  {
   "cell_type": "markdown",
   "metadata": {},
   "source": [
    "## 问题 2：\n",
    "\n",
    "假设有函数 $f$ 和 $g$ 使得 $f(n)$ = $O(g(n))$ 对于下面的每一个陈述, 请判断对错, 如果正确请给出证明, 否则请给出一个反例。\n",
    "\n",
    "1. $\\log{f(n)}$ = $O(\\log(1+g(n)))$\n",
    "2. $3^{f(n)}=O(3^{g(n)})$\n",
    "3. $(f(n))^2=O((g(n))^2)$ "
   ]
  },
  {
   "cell_type": "markdown",
   "metadata": {},
   "source": [
    "you can refer a handwritten picture, pleas upload the picture in /fig/xxx.png\n",
    "answer:"
   ]
  },
  {
   "cell_type": "markdown",
   "metadata": {},
   "source": [
    "<img src=\"./fig/hw1q2.jpg\" width=\"35%\" alt=\"图片描述\">"
   ]
  },
  {
   "cell_type": "markdown",
   "metadata": {},
   "source": [
    "## 问题 3\n",
    "\n",
    "根据下列递归公式, 计算下列 $T(n)$ 对应的的渐近上界。要求所求的边界尽可能的紧（tight）, 请写明步骤。\n",
    "\n",
    "1. $T(1)=1; T(n)=T(n/4)+1$ for $n>1$\n",
    "2. $T(1)=1;T(n)=3T(n/3)+n^2$ for $n>1$\n",
    "3. $T(1)=1;T(n)=T(2n/3)+1$ for $n>1$\n",
    "4. $T(1)=1;T(n)=5T(n/4)+n$ for $n>1$\n",
    "5. $T(n)=1 \\ for\\ n \\le 2 ; T(n)=T(\\sqrt{n})+1 \\ for \\ n>2$"
   ]
  },
  {
   "cell_type": "markdown",
   "metadata": {},
   "source": [
    "can refer a handwritten picture, pleas upload the picture in /fig/xxx.png\n",
    "answer:"
   ]
  },
  {
   "cell_type": "markdown",
   "metadata": {},
   "source": [
    "<img src=\"./fig/hw1q3.jpg\" width=\"35%\" alt=\"图片描述\">"
   ]
  },
  {
   "cell_type": "markdown",
   "metadata": {},
   "source": [
    "## 问题 4：\n",
    "\n",
    "给定一个包含n个元素的数组 `profits` , 它的第 `i` 个元素 `profits[i]` 表示一支股票第 `i` 天的**收益**（正数表示涨, 负数表示跌）。你只能选择 **某一天** 买入这只股票, 并选择在 **未来的某一个不同的日子** 卖出该股票。\n",
    "\n",
    "1. 设计一个算法来计算你所能获取的最大利润和对应买入和卖出的日期。请分析算法方案, 计算其时间复杂度, 并且使用python编程实现该算法。\n",
    "\n",
    "2. \\* 设计一个时间复杂度为 $O(n)$的算法实现该算法\n",
    "\n",
    "e.g. :\n",
    "---\n",
    "profits=[3,2,1,-7,5,2,-1,3,-1], 第5天买入, 第8天卖出, 收益最大：9\n",
    "\n"
   ]
  },
  {
   "cell_type": "markdown",
   "metadata": {},
   "source": [
    "idea:要找到买入和卖出日期使利润最大，利润定义为买入日期到卖出日期之间的累计收益。例如，第i天买入，第j天卖出，利润为买入到卖出期间的累计收益。这个问题等价于寻找最大连续子数组和。\n",
    "    所以我们维护一个当前子数组的和（current_sum）和全局最大和（max_sum），同时记录子数组的起始和结束位置。遍历数组时，如果当前元素比当前子数组的和加上该元素更大，说明应该以当前元素作为新子数组的起点；否则将当前元素加入。每次更新当前子数组和时，检查是否需要更新全局最大值及对应的买入和卖出日期。"
   ]
  },
  {
   "cell_type": "code",
   "execution_count": 15,
   "metadata": {},
   "outputs": [
    {
     "name": "stdout",
     "output_type": "stream",
     "text": [
      "第5天买入, 第8天卖出，收益最大: 9\n"
     ]
    }
   ],
   "source": [
    "def max_profit(profits):\n",
    "    if not profits:\n",
    "        return 0, 0, 0 \n",
    "    \n",
    "    current_sum = profits[0]\n",
    "    max_sum = profits[0]\n",
    "    start_idx = 0\n",
    "    end_idx = 0\n",
    "    temp_start = 0  \n",
    "    \n",
    "    for i in range(1, len(profits)):\n",
    "        if profits[i] > current_sum + profits[i]:\n",
    "            current_sum = profits[i]\n",
    "            temp_start = i\n",
    "        else:\n",
    "            current_sum += profits[i]\n",
    "        \n",
    "        if current_sum > max_sum:\n",
    "            max_sum = current_sum\n",
    "            start_idx = temp_start\n",
    "            end_idx = i             \n",
    "    \n",
    "    buy_day = start_idx + 1\n",
    "    sell_day = end_idx + 1\n",
    "    return max_sum, buy_day, sell_day\n",
    "\n",
    "# e.g.\n",
    "profits = [3, 2, 1, -7, 5, 2, -1, 3, -1]\n",
    "max_profit_val, buy, sell = max_profit(profits)\n",
    "print(f\"第{buy}天买入, 第{sell}天卖出，收益最大: {max_profit_val}\")\n",
    "\n",
    "#算法通过一次遍历数组完成所有操作，每次循环内的比较和赋值均为常数时间，因此总时间复杂度为O(n)。"
   ]
  },
  {
   "cell_type": "code",
   "execution_count": null,
   "metadata": {},
   "outputs": [],
   "source": [
    "# an algorithm with O(n)"
   ]
  },
  {
   "cell_type": "markdown",
   "metadata": {},
   "source": [
    "## 问题 5：\n",
    "\n",
    "观察下方的分治算法（divide-and-conquer algorithm）的伪代码, 回答下面问题\n",
    "\n",
    "```latex\n",
    "DoSomething(A,p,r)\n",
    "-----\n",
    "n := r-p+1\n",
    "if n=2 and A[p]>A[r] then\n",
    "    swap A[p] and A[r]\n",
    "else if n >= 3 then\n",
    "    m = ceil(2n/3)\n",
    "    DoSomething(A,p,p+m-1)\n",
    "    DoSomething(A,r-m+1,r)\n",
    "    DoSomething(A,p,p+m-1)  \n",
    "    \n",
    "---\n",
    "first call: DoSomething(A,1,n)\n",
    "```\n",
    "\n",
    "note：$ceil(2n/3)=\\left\\lceil {2n/3} \\right\\rceil$；$:=$ 表示赋值, 等价于 $\\to$；A是一个包含n的整数元素的数组, \n",
    "\n",
    "1. 写出该算法时间复杂度的递归公式, 并求解其对应的渐进表示\n",
    "2. 描述一下该算法的功能, 并判断是否是最高效的解决方案\n",
    "3. 使用python编程实现上述算法或其对应的更高效版本的算法\n"
   ]
  },
  {
   "cell_type": "markdown",
   "metadata": {},
   "source": [
    "idea："
   ]
  },
  {
   "cell_type": "markdown",
   "metadata": {},
   "source": [
    "1、\n",
    "递归公式:\n",
    "$$T(n) = \\begin{cases} O(1), & \\text{if } n \\leq 2, \\\\ 3T\\left(\\left\\lfloor \\frac{2n}{3} \\right\\rfloor\\right) + O(1), & \\text{if } n \\geq 3. \\end{cases}$$\n",
    "\n",
    "渐近分析:\n",
    "每个子问题的规模为$\\left\\lfloor \\frac{2n}{3} \\right\\rfloor$。递归深度k满足：\n",
    "$$\\left(\\frac{2}{3}\\right)^k n \\leq 2 \\Rightarrow k = \\log_{3/2} n.$$\n",
    "每层操作数为$3^k \\cdot O(1)$，总时间复杂度为：\n",
    "$$T(n) = O\\left(3^{\\log_{3/2} n}\\right) = O\\left(n^{\\log_{3/2} 3}\\right) \\approx O(n^{2.71}).$$\n",
    "2、\n",
    "\n",
    "功能：\n",
    "该算法是一种非稳定排序算法，具体如下：\n",
    "\n",
    "①当子数组长度为 2 时，直接比较并交换元素。\n",
    "②当长度 ≥ 3 时，递归处理前 $\\frac23$ 段、后 $\\frac23$ 段，再重复处理前$\\frac23$ 段。通过多次分段操作，逐步将较大元素移动到右侧。\n",
    "\n",
    "效率判断：时间复杂度：O(n^{2.71})，高于快速排序 O(n log n) 和归并排序 O(n log n))。所以不是最高效的解决方案。"
   ]
  },
  {
   "cell_type": "markdown",
   "metadata": {},
   "source": [
    "answer:"
   ]
  },
  {
   "cell_type": "code",
   "execution_count": 16,
   "metadata": {},
   "outputs": [
    {
     "name": "stdout",
     "output_type": "stream",
     "text": [
      "排序后数组: [1, 2, 3, 4, 5, 7, 9]\n"
     ]
    }
   ],
   "source": [
    "# add your code here\n",
    "def do_something(A, p, r):\n",
    "    n = r - p + 1\n",
    "    if n == 2:\n",
    "        if A[p-1] > A[r-1]:  \n",
    "            A[p-1], A[r-1] = A[r-1], A[p-1]\n",
    "    elif n >= 3:\n",
    "        m = (2 * n + 2) // 3  \n",
    "        do_something(A, p, p + m - 1)\n",
    "        do_something(A, r - m + 1, r)\n",
    "        do_something(A, p, p + m - 1)\n",
    "    return A\n",
    "\n",
    "\n",
    "A = [9, 3, 7, 2, 1, 4, 5]\n",
    "n = len(A)\n",
    "do_something(A, 1, n)  \n",
    "print(\"排序后数组:\", A)\n",
    "# your algorithm time complexity is :时间复杂度：O(n^{2.71})"
   ]
  },
  {
   "cell_type": "markdown",
   "metadata": {},
   "source": [
    "## 问题 6：\n",
    "\n",
    "给定一个大小为 `n` 的数组 `nums` , 返回其中的多数元素。多数元素是指在数组中出现次数 **大于** `⌊ n/2 ⌋` 的元素。\n",
    "\n",
    "你可以假设数组是非空的, 并且给定的数组总是存在多数元素。\n",
    "\n",
    "1. 设计一个算法找到给定数组的多数元素, 分析算法设计思路, 计算算法时间复杂度, 使用python编程实现\n",
    "2. \\* 设计时间复杂度为 O(n)、空间复杂度为 O(1) 的算法解决此问题, 分析算法设计思路, 使用python编程实现\n",
    "\n",
    "e.g.:\n",
    "---\n",
    "1. nums=[3,2,3], 返回3\n",
    "2. nums=[2,2,1,1,1,2,2], 返回2\n"
   ]
  },
  {
   "cell_type": "markdown",
   "metadata": {},
   "source": [
    "idea："
   ]
  },
  {
   "cell_type": "markdown",
   "metadata": {},
   "source": [
    "把数组里所有元素按出现次数排个序，多数元素出现的次数比其他任何元素都要多。\n",
    "\n",
    "具体想法：先准备一个 dict，用来统计每个数字出现的次数。\n",
    "\n",
    "依次遍历数组 nums：\n",
    "\n",
    "①如果数字还没见过，就初始化它的计数为 1；\n",
    "\n",
    "②如果已经见过，就让计数再加 1。\n",
    "\n",
    "遍历完之后，就知道每个数字各出现了几次。再找出计数值最大的那个数字就行。"
   ]
  },
  {
   "cell_type": "code",
   "execution_count": 11,
   "metadata": {},
   "outputs": [
    {
     "name": "stdout",
     "output_type": "stream",
     "text": [
      "3\n",
      "2\n"
     ]
    }
   ],
   "source": [
    "# add your code here\n",
    "def majority_element_hash(nums):\n",
    "    count_dict = {}\n",
    "    for num in nums:\n",
    "        if num not in count_dict:\n",
    "            count_dict[num] = 1\n",
    "        else:\n",
    "            count_dict[num] += 1\n",
    "    \n",
    "    for num, cnt in count_dict.items():\n",
    "        if cnt > len(nums) // 2:\n",
    "            return num\n",
    "\n",
    "    return None\n",
    "\n",
    "nums1 = [3,2,3]\n",
    "print(majority_element_hash(nums1)) \n",
    "\n",
    "\n",
    "nums2 = [2,2,1,1,1,2,2]\n",
    "print(majority_element_hash(nums2))\n",
    "\n",
    "\n",
    "# your algorithm time complexity is :因此总的时间复杂度就是 O(n)。"
   ]
  },
  {
   "cell_type": "markdown",
   "metadata": {},
   "source": [
    "idea for 2\\*："
   ]
  },
  {
   "cell_type": "markdown",
   "metadata": {},
   "source": [
    "## 问题 7：\n",
    "\n",
    "给定一个包含不同整数元素的数组 $ A[1..n]$ ,并且满足条件：$A[1]>A[2]$ 并且 $A[n-1]<A[n]$; 规定：如果一个元素比它两边的邻居元素都小, 即：$A[x]<A[x-1], A[x]<A[x+1]$ , 称这个元素A[x]为“局部最小”。通过遍历一次数组, 我们可以很容易在 $O(n)$的时间复杂度下找到一个局部最小值, \n",
    "\n",
    "\n",
    "1. 分析该问题, 设计一个算法在$O(logn)$的时间复杂度下找到一个局部最小(返回数值), 要求：分析算法设计思路, 并且使用python编程实现\n",
    "2. \\* 设计算法找出所有局部最小值, 分析算法设计思路, 并使用python编程实现\n",
    "\n",
    "e.g.:\n",
    "---\n",
    "A=[9, 3, 7, 2, 1, 4, 5 ] 时,  局部最小元素为 3, 1\n"
   ]
  },
  {
   "cell_type": "markdown",
   "metadata": {},
   "source": [
    "idea："
   ]
  },
  {
   "cell_type": "markdown",
   "metadata": {},
   "source": [
    "这个问题是要在一个数组里找到一个局部最小值，也就是某个元素比它左右两边的数都小。题目给了两个条件：数组的第一个元素比第二个大，最后一个元素比倒数第二个大，这说明数组左端是向下走的，右端是向上走的。根据这种趋势，中间肯定至少有一个局部最小值。为了解决这个问题，我们可以用类似二分查找的思路。具体来说，先抛开首尾元素，然后在中间部分取一个中间点，检查这个点是不是局部最小值——如果是就直接返回；如果不是，就看看它左边和右边的数谁更小，往更小的方向继续搜索。这样每次都能砍掉一半的搜索范围，时间复杂度就降到了O(log n)。"
   ]
  },
  {
   "cell_type": "code",
   "execution_count": 6,
   "metadata": {},
   "outputs": [
    {
     "name": "stdout",
     "output_type": "stream",
     "text": [
      "1\n"
     ]
    }
   ],
   "source": [
    "def find_local_min(A):\n",
    "    n = len(A)\n",
    "    if n < 3:\n",
    "        return None\n",
    "    \n",
    "    left, right = 1, n - 2 \n",
    "    \n",
    "    while left <= right:\n",
    "        mid = (left + right) // 2\n",
    "        if A[mid] < A[mid - 1] and A[mid] < A[mid + 1]:\n",
    "            return A[mid]\n",
    "        if A[mid] > A[mid - 1]:\n",
    "            right = mid - 1\n",
    "        elif A[mid] > A[mid + 1]:\n",
    "            left = mid + 1\n",
    "        else:\n",
    "            right = mid - 1 \n",
    "    if left < n and A[left] < A[left - 1] and A[left] < A[left + 1]:\n",
    "        return A[left]\n",
    "    return None  \n",
    "print(find_local_min([9, 3, 7, 2, 1, 4, 5]))"
   ]
  },
  {
   "cell_type": "markdown",
   "metadata": {},
   "source": [
    "## 问题 8：\n",
    "\n",
    "给定包含n个不同数字的一组数, 寻找一种基于比较的算法在这组数中找到k个最小的数字, 并按顺序输出它们。\n",
    "\n",
    "1. 将n个数先进行排序, 然后按顺序输出最小的k个数。要求：选择合适的排序算法实现上述操作, 计算算法时间复杂度, 并使用python编程实现。\n",
    "2. 建立一个包含这n个数的堆（heap）, 并且调用 k 次Extract-min 按顺序输出最小的k个数。使用往空堆中不断插入元素的方法建立堆, 分析这种方法建堆的时间复杂度, 并使用python编程实现\n",
    "3. \\* 假设数组中包含的数据总数目超过了计算机的存储能力, 请设计一个算法, 找到这堆数据的前k小的数值, 计算时间复杂度, 并使用python实现该算法, 假设计算机一定能存储k个数据。\n",
    "\n",
    "e.g.：\n",
    "---\n",
    "数组arr=[5,4,3,2,6,1,88,33,22,107] 的前3个最小数据为：1, 2, 3\n"
   ]
  },
  {
   "cell_type": "markdown",
   "metadata": {},
   "source": [
    "解答"
   ]
  },
  {
   "cell_type": "markdown",
   "metadata": {},
   "source": [
    "idea：\n",
    "第一题：先排序再取前k个最小数\n",
    "思路：\n",
    "直接对数组进行排序，然后取前k个元素即可。选择高效的排序算法Python内置的sorted函数，时间复杂度为 O(nlogn)\n",
    "\n",
    "第二题：插入法建堆并提取k次最小值\n",
    "思路：\n",
    "首先逐个将元素插入空堆中。每次插入需要调整堆结构，时间复杂度为 O(logn)，插入n次总时间为 O(nlogn)。\n",
    "\n",
    "再调用k次Extract-min操作，每次提取后调整堆，时间复杂度为 O(klogn)。\n",
    "\n",
    "总时间复杂度：O(nlogn+klogn)"
   ]
  },
  {
   "cell_type": "code",
   "execution_count": 9,
   "metadata": {},
   "outputs": [
    {
     "name": "stdout",
     "output_type": "stream",
     "text": [
      "[1, 2, 3]\n"
     ]
    }
   ],
   "source": [
    "# add your code here\n",
    "# your algorithm time complexity is ：时间复杂度O(n log n)\n",
    "def find_k_smallest_sort(arr, k):\n",
    "    sorted_arr = sorted(arr)  \n",
    "    return sorted_arr[:k]     # 取前k个元素\n",
    "arr = [5, 4, 3, 2, 6, 1, 88, 33, 22, 107]\n",
    "k = 3\n",
    "print(find_k_smallest_sort(arr,k))"
   ]
  },
  {
   "cell_type": "code",
   "execution_count": 10,
   "metadata": {},
   "outputs": [
    {
     "name": "stdout",
     "output_type": "stream",
     "text": [
      "[1, 2, 3]\n"
     ]
    }
   ],
   "source": [
    "import heapq\n",
    "\n",
    "def find_k_smallest_heap(arr, k):\n",
    "    heap = []\n",
    "    for num in arr:\n",
    "        heapq.heappush(heap, num)  \n",
    "    res = []\n",
    "    for _ in range(k):\n",
    "        res.append(heapq.heappop(heap))\n",
    "    return res\n",
    "arr = [5, 4, 3, 2, 6, 1, 88, 33, 22, 107]\n",
    "k = 3\n",
    "print(find_k_smallest_sort(arr,k))"
   ]
  },
  {
   "cell_type": "markdown",
   "metadata": {},
   "source": [
    "## 问题 9：\n",
    "\n",
    "**选择问题**:给定一个包含n个未排序值的数组A和一个$k≤n$的整数, 返回A中最小的第k项。\n",
    "\n",
    "在课堂上, 学了一个简单的O(n)随机算法来解决选择问题。事实上还有一种更复杂的最坏情况下时间复杂度为$O(n)$ 的选择算法。假设使用一个黑盒过程来实现这个O(n)选择算法: 给定一个数组A、 $p < r$ 和 k,  $BB(A, p, r, k)$ 可以在$O(r−p+ 1)$时间内找到并报告$A[p..r]$中第k小的项的下标。假设你可以在线性时间内处理Partition过程。\n",
    "\n",
    "1. 请分析如何修改 Quicksork 算法可以使其最差情况下的运行时间为 $O(nlogn)$, 使用伪代码实现, 并分析为何修改后的版本最差情况的运行时间为$O(nlogn)$\n",
    "\n",
    "note: 伪代码中, 你可以直接调用用` BB(A,p,r,k)`这个函数用于表示在最坏情况下时间复杂度为$O(n)$的选择算法；\n",
    "\n",
    "\n",
    "\n",
    "2. 找到一个更好的算法报告数组A中的前k小的项, 使用伪代码表示你的算法, 并分析你算法的时间复杂度。\n",
    "\n",
    "举例：A=[13, 3, 7, 9, 11, 1, 15, 2, 8, 10, 12, 16, 14, 5], 当k=4时, 应该报告1, 2, 3, 4\n",
    "\n",
    "note： 最直观的方法就是先将数组A排序, 然后从左向右报告其前k项, 这样操作的时间复杂度为$O(nlogn)$. 调用用` BB(A,p,r,k)`设计一个算法使其报告无序数组A的前k项, 满足时间复杂度好于$\\Theta(nlogn)$, 并且当$k=\\sqrt{n}$时, 你设计的算法时间复杂度应该为$\\Theta(n)$.\n",
    "\n",
    "\n",
    "\n",
    "3. 给定一个大小为n的数组, 找到一个 时间复杂度为$O(n log k)$ 的算法, 该算法将A中的元素重新排序, 使它们被划分为k个部分, 每个部分的元素小于或等于下一部分的元素。假设n和k都是2的幂。使用伪代码表示你的算法, 并分析时间复杂度。\n",
    "\n",
    "e.g.:\n",
    "---\n",
    "数组：[1,  3,  5,  7,  9,  11,  13,  15,  2,  4,  6,  8,  10,  12,  16,  14], k=4, \n",
    "\n",
    "对应重新排序的数组为：[1,  3,  2,  4]  [7,  6,  5,  8]  [12,  11,  10,  9]  [13,  14,  16,  15]\n",
    "\n",
    "\n"
   ]
  },
  {
   "cell_type": "markdown",
   "metadata": {},
   "source": [
    "解答"
   ]
  },
  {
   "cell_type": "markdown",
   "metadata": {},
   "source": [
    "第一题：\n",
    "idea：改进思路是每次递归选择中位数作为枢轴，确保划分后的子数组大小平衡。利用题目提供的黑盒函数 BB(A,p,r,k)，可以在 O(n) 时间内找到第k小的元素。\n",
    "\n",
    "算法设计：\n",
    "在每次递归中，调用 BB(A,p,r,(r−p+1)/2) 找到当前子数组的中位数作为枢轴。将数组分为左右两部分，分别处理左右子数组。\n",
    "\n",
    "时间复杂度分析：\n",
    "每次递归调用中，BB函数耗时 O(n)，Partition耗时 O(n)。由于每次划分后子数组长度减半，递归深度为 O(logn)。\n",
    "\n",
    "总时间复杂度为 O(nlogn)。"
   ]
  },
  {
   "cell_type": "code",
   "execution_count": null,
   "metadata": {},
   "outputs": [],
   "source": [
    "#伪代码：\n",
    "ModifiedQuickSort(A, p, r):\n",
    "    if p < r:\n",
    "        median_idx = BB(A, p, r, (r - p + 1) // 2)\n",
    "        swap(A[median_idx], A[r])\n",
    "        q = Partition(A, p, r)\n",
    "        ModifiedQuickSort(A, p, q - 1)\n",
    "        ModifiedQuickSort(A, q + 1, r)"
   ]
  },
  {
   "cell_type": "markdown",
   "metadata": {},
   "source": [
    "第二题：\n",
    "直接排序取前k项的时间复杂度为 O(nlogn)，题目要求更优的算法。利用BB函数找到第k小的元素后，可以划分数组并仅对前k项排序。\n",
    "\n",
    "算法设计：\n",
    "首先调用 BB(A,0,n−1,k) 找到第k小的元素 𝑥，其次遍历数组，收集所有小于等于 𝑥的元素，并排序这些元素。再次输出排序后的前k项。\n",
    "调用BB函数耗时 O(n)。\n",
    "\n",
    "收集候选元素耗时 O(n)。\n",
    "\n",
    "排序候选集耗时 O(klogk)（候选集长度至多为 \n",
    "𝑛，但实际接近 𝑘）。\n",
    "\n",
    "总时间复杂度为 O(n+klogk)。\n",
    "当$k=\\sqrt{n}$时，时间复杂度为 𝑂(𝑛+𝑛log𝑛)=𝑂(𝑛)\n"
   ]
  },
  {
   "cell_type": "code",
   "execution_count": null,
   "metadata": {},
   "outputs": [],
   "source": [
    "FindTopK(A, k):\n",
    "    x = BB(A, 0, n-1, k)  # 找到第k小的元素\n",
    "    # 收集所有小于等于x的元素\n",
    "    candidates = [a for a in A if a <= x]\n",
    "    # 排序候选集并取前k项\n",
    "    candidates.sort()\n",
    "    return candidates[:k]"
   ]
  },
  {
   "cell_type": "markdown",
   "metadata": {},
   "source": [
    "第三题：\n",
    "问题分析：\n",
    "要求将数组划分为k个部分，每部分元素均小于等于下一部分。当k为2的幂时，可采用递归分治策略，每次将数组分为两半，直到划分为k个块。\n",
    "\n",
    "算法设计：\n",
    "递归地将数组分成2的幂次块，直到块数为k。在每次划分时，使用BB函数找到中位数，将数组分为两部分。对每个子块递归处理，最终合并所有块。\n",
    "\n",
    "时间复杂度分析\n",
    "\n",
    "每次递归调用BB函数耗时 O(n)，划分操作耗时 O(n)。递归深度为 O(logk)（因k是2的幂）。\n",
    "\n",
    "总时间复杂度为 O(nlogk)。"
   ]
  },
  {
   "cell_type": "code",
   "execution_count": null,
   "metadata": {},
   "outputs": [],
   "source": [
    "PartitionKBlocks(A, k):\n",
    "    if k == 1:\n",
    "        return [A]\n",
    "    median_idx = BB(A, 0, len(A)-1, len(A)//2)\n",
    "    left = A[:median_idx]\n",
    "    right = A[median_idx:]\n",
    "    left_blocks = PartitionKBlocks(left, k//2)\n",
    "    right_blocks = PartitionKBlocks(right, k//2)\n",
    "    return left_blocks + right_blocks"
   ]
  },
  {
   "cell_type": "markdown",
   "metadata": {},
   "source": [
    "## 问题 10：\n",
    "\n",
    "给定一个包含m个**字符串**的数组A, 其中不同的字符串可能有不同的字符数, 但数组中所有字符串的字符总数为n。设计一个算法在 $O(n)$ 时间内对字符串进行排序, 分析算法设计方案, 计算其时间复杂度, 并基于python编程实现该算法。请注意, 假设字符串只包含\"a\",\"b\",...,\"z\", \n",
    "\n",
    "\n",
    "\n",
    "举例1：数组A=[\"a\", \"da\", \"bde\", \"ab\", \"bc\", \"abdc\", \"cdba\"], 排序后的数组应该为：['a', 'ab', 'abdc', 'bc', 'bde', 'cdba', 'da']\n",
    "\n",
    "\n",
    "\n",
    "举例2：数组A=['ab', 'a', 'b', 'abc', 'ba', 'c'], 排序后的数组应该为：\n",
    "\n",
    "['a', 'ab', 'abc', 'b', 'ba', 'c']\n",
    "\n",
    "\n",
    "\n",
    "举例3：数组A=['aef', 'yzr', 'wr', 'ab', 'bhjc', 'lkabdc', 'pwcdba'],  排序后的数组应该为：['ab', 'aef', 'bhjc', 'lkabdc', 'pwcdba', 'wr', 'yzr']\n",
    "\n",
    "\n",
    "\n",
    "note：\n",
    "\n",
    "-  两个字符之间的比较可以考虑比较他们对应的ASCII码值；\n",
    "- python中可以使用`ord(\"a\")`返回字符 “a”对应的ASCII值"
   ]
  },
  {
   "cell_type": "markdown",
   "metadata": {},
   "source": [
    "解答"
   ]
  },
  {
   "cell_type": "markdown",
   "metadata": {},
   "source": [
    "idea:\n",
    "首先遍历每个字符串，将字符逐个插入到 Trie 中。Trie 的每个节点对应一个字符，从根节点到叶子节点的路径表示一个完整的字符串。插入时，若字符不存在则创建新节点，并标记字符串的结束位置。随后对 Trie 进行深度优先遍历，按字典序（从 a 到 z）访问每个节点的子节点。遍历过程中，记录从根节点到当前节点的路径，当遇到字符串结束标记时，将路径对应的字符串加入结果列表。\n",
    "\n",
    "时间复杂度分析：\n",
    "构建 Trie：每个字符被插入一次，时间复杂度为 O(n)。\n",
    "\n",
    "DFS 遍历：每个节点被访问一次，时间复杂度为 O(n)。\n",
    "\n",
    "总时间复杂度：O(n)+O(n)=O(n)。"
   ]
  },
  {
   "cell_type": "code",
   "execution_count": 16,
   "metadata": {},
   "outputs": [
    {
     "name": "stdout",
     "output_type": "stream",
     "text": [
      "['a', 'ab', 'abc', 'bc', 'bde', 'cdba', 'da']\n",
      "['a', 'ab', 'abc', 'b', 'ba', 'c']\n",
      "['ab', 'aef', 'bhjc', 'lkabdc', 'pwcdba', 'wr', 'yzr']\n"
     ]
    }
   ],
   "source": [
    "# add your code here\n",
    "class TrieNode:\n",
    "    def __init__(self):\n",
    "        self.children = {}\n",
    "        self.is_end = False\n",
    "\n",
    "def build_trie(strings):\n",
    "    root = TrieNode()\n",
    "    for s in strings:\n",
    "        node = root\n",
    "        for char in s:\n",
    "            if char not in node.children:\n",
    "                node.children[char] = TrieNode()\n",
    "            node = node.children[char]\n",
    "        node.is_end = True\n",
    "    return root\n",
    "\n",
    "def dfs_trie(node, path, result):\n",
    "    if node.is_end:\n",
    "        result.append(''.join(path))\n",
    "    for char in sorted(node.children.keys()): \n",
    "        next_node = node.children[char]\n",
    "        path.append(char)\n",
    "        dfs_trie(next_node, path, result)\n",
    "        path.pop()\n",
    "\n",
    "def sort_strings(A):\n",
    "    trie = build_trie(A)\n",
    "    result = []\n",
    "    dfs_trie(trie, [], result)\n",
    "    return result\n",
    "\n",
    "\n",
    "A1 = ['a', 'da', 'bde', 'ab', 'bc', 'abc', 'cdba']\n",
    "print(sort_strings(A1)) \n",
    "\n",
    "A2 = ['ab', 'a', 'b', 'abc', 'ba', 'c']\n",
    "print(sort_strings(A2))\n",
    "A3=['aef', 'yzr', 'wr', 'ab', 'bhjc', 'lkabdc', 'pwcdba']\n",
    "print(sort_strings(A3))\n",
    "# your algorithm time complexity is :O(n)"
   ]
  }
 ],
 "metadata": {
  "kernelspec": {
   "display_name": "Python 3 (ipykernel)",
   "language": "python",
   "name": "python3"
  },
  "language_info": {
   "codemirror_mode": {
    "name": "ipython",
    "version": 3
   },
   "file_extension": ".py",
   "mimetype": "text/x-python",
   "name": "python",
   "nbconvert_exporter": "python",
   "pygments_lexer": "ipython3",
   "version": "3.9.18"
  }
 },
 "nbformat": 4,
 "nbformat_minor": 2
}
