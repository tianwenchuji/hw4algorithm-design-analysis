{
 "cells": [
  {
   "cell_type": "markdown",
   "metadata": {},
   "source": [
    "## algorithm design and anlysis-2025 spring  homework 2\n",
    "**Deadline**：2025.5.14\n",
    "\n",
    "**name**:刘璐\n",
    "\n",
    "\n",
    "note：\n",
    "---\n",
    "1. 带有\\*的题目，申请免上课的同学，必须完成，其他同学选作；\n",
    "2. 请独立完成，如求助了他人或者大模型，请著明，并且不可省略算法分析部分；\n",
    "4. 如若作答有雷同，全部取消成绩；\n",
    "3. 需要书面作答的题目，可以通过引用图片的形式添加，但是注意上传项目时包含所引用的图片的源文件；\n",
    "4. $log_n$ 默认表示$log_2{n}$;"
   ]
  },
  {
   "cell_type": "markdown",
   "metadata": {},
   "source": [
    "## 问题 1  \n",
    "\n",
    "> 给定一个已排序的链表的头 `head` ， *删除所有重复的元素，使每个元素只出现一次* 。返回 *已排序的链表* 。链表的类如下所示：\n",
    "\n",
    "```python\n",
    "class NodeList:\n",
    "    def __init__(self, val=None, right=None):\n",
    "        self.val   = val\n",
    "        self.right = right\n",
    "```\n",
    "\n",
    "输入是一个数组，你首先需要将数组转化为链表，然后删除链表中的重复元素，再遍历链表元素，以一个数组的形式返回。请设计一个算法解决上述任务，分析算法设计思路，计算时间复杂度, 并基于python编程实现。\n",
    "\n",
    "e.g.  输入：head=[1, 1, 2, 3, 3]   输出：[1, 2, 3]\n",
    "\n",
    "![image-20240502110020439](./fig/hw2q1.png)\n",
    "\n"
   ]
  },
  {
   "cell_type": "markdown",
   "metadata": {},
   "source": [
    "idea：\n",
    "\n",
    "算法设计思路：\n",
    "首先，将已排序的数组转换为链表结构。具体做法是遍历数组中的每个元素，为每个元素创建一个链表节点，并利用节点的 right 指针连接相邻的节点，从而将数组 [1, 1, 2] 转换为链表 1 → 1 → 2 → None。。接下来，遍历链表：从头节点开始，将当前节点与其下一个节点进行比较，如果两者值相同，就将当前节点的 right 指针指向后面第一个与当前值不同的节点；否则，直接移动指针到下一个节点。最后，为了返回数组形式的结果，对去重后的链表进行一次顺序遍历，将节点中的值依次存入到一个新的数组中。\n",
    "\n",
    "时间复杂度分析\n",
    "构建链表阶段需要遍历数组中的每个元素，对每个元素建立节点并进行指针连接，因此时间复杂度为 O(n)；删除重复元素阶段，由于每个节点在遍历中最多被访问两次，整体时间复杂度仍为 O(n)；将链表转换回数组阶段同样需要顺序遍历整个链表并提取值，时间复杂度也为 O(n)。\n",
    "综上所述，整个算法的总体时间复杂度为 O(n) + O(n) + O(n) = O(n)。"
   ]
  },
  {
   "cell_type": "code",
   "execution_count": 25,
   "metadata": {},
   "outputs": [
    {
     "name": "stdout",
     "output_type": "stream",
     "text": [
      "[1, 2, 3]\n"
     ]
    }
   ],
   "source": [
    "# add your idea here  \n",
    "# 算法设计思路：\n",
    "# 首先，将已排序的数组转换为链表结构。具体做法是遍历数组中的每个元素，为每个元素创建一个链表节点，\n",
    "# 并利用节点的 right 指针连接相邻的节点，从而将数组 [1, 1, 2] 转换为链表 1 → 1 → 2 → None。\n",
    "# 接下来，遍历链表：从头节点开始，将当前节点与其下一个节点进行比较，\n",
    "# 如果两者值相同，就将当前节点的 right 指针指向后面第一个与当前值不同的节点；\n",
    "# 否则，直接移动指针到下一个节点。最后，为了返回数组形式的结果，\n",
    "# 对去重后的链表进行一次顺序遍历，将节点中的值依次存入到一个新的数组中。\n",
    "\n",
    "# 时间复杂度分析\n",
    "# 构建链表阶段需要遍历数组中的每个元素，对每个元素建立节点并进行指针连接，因此时间复杂度为 O(n)；\n",
    "# 删除重复元素阶段，由于每个节点在遍历中最多被访问两次，整体时间复杂度仍为 O(n)；\n",
    "# 将链表转换回数组阶段同样需要顺序遍历整个链表并提取值，时间复杂度也为 O(n)。\n",
    "# 综上所述，整个算法的总体时间复杂度为 O(n) + O(n) + O(n) = O(n)。\n",
    "class Nodelist:\n",
    "    def __init__(self, val=None, right=None):\n",
    "        self.val = val\n",
    "        self.right = right\n",
    "\n",
    "def array_to_linked_list(arr):\n",
    "    if not arr:\n",
    "        return None\n",
    "    head =  Nodelist(arr[0])\n",
    "    current = head\n",
    "    for val in arr[1:]:\n",
    "        current.right = Nodelist(val)\n",
    "        current = current.right\n",
    "    return head\n",
    "\n",
    "def remove_duplicates(head):\n",
    "    current = head\n",
    "    while current and current.right:\n",
    "        if current.val == current.right.val:\n",
    "            current.right = current.right.right\n",
    "        else:\n",
    "            current = current.right\n",
    "    return head\n",
    "\n",
    "def linked_list_to_array(head):\n",
    "    arr = []\n",
    "    current = head\n",
    "    while current:\n",
    "        arr.append(current.val)\n",
    "        current = current.right\n",
    "    return arr\n",
    "\n",
    "def process(arr):\n",
    "    head = array_to_linked_list(arr)\n",
    "    head = remove_duplicates(head)\n",
    "    return linked_list_to_array(head)\n",
    "\n",
    "# 示例测试\n",
    "print(process([1, 1, 2, 3, 3]))  \n",
    "\n",
    "# your algorithm time complexity is: O(n)"
   ]
  },
  {
   "cell_type": "markdown",
   "metadata": {},
   "source": [
    "## 问题 2  \n",
    "\n",
    "> 下面是一个经典的算法问题：\n",
    ">\n",
    "> - 给定包含n个整数的一个整数数组 `nums` 和一个整数目标值 `target`，请你在该数组中找出 **和为目标值** *`target`* 的那 **两个** 整数，并返回它们的**数组下标**。假设每种输入只会对应一个答案。但是，数组中同一个元素在答案里不能重复出现。你可以按任意顺序返回答案。\n",
    ">\n",
    "> 由于要多次查找数组中元素的位置，为了提高查询效率可以使用哈希表来存储数组中的数据，在哈希表中查询一个元素的复杂度为O(1)。 已知python中的字典是使用哈希表实现的，即使用`dict[key]`查询对应的value时间复杂度为O(1), python提供了查询字典是否包含某个key的功能：`key in dict`，时间复杂度也是O(1)\n",
    "\n",
    "请根据上面信息，设计一个时间复杂度为O(n) 的算法，解决上述算法问题\n",
    "\n",
    "e.g.   \n",
    "\n",
    "输入：nums=[2,7,11,15], target=9， 输出：[0，1]\n",
    "\n",
    "输入：nums=[3,2,4], target=6, 输出：[1,2]\n",
    "\n",
    "输入：nums=[3,3], target=6,  输出：[0,1]\n"
   ]
  },
  {
   "cell_type": "code",
   "execution_count": 5,
   "metadata": {},
   "outputs": [
    {
     "name": "stdout",
     "output_type": "stream",
     "text": [
      "[0, 1]\n",
      "[1, 2]\n",
      "[0, 1]\n"
     ]
    }
   ],
   "source": [
    "# add your idea here\n",
    "#在遍历数组时，对于每个元素 nums[i]，计算其补数 complement = target - nums[i]。\n",
    "#若该补数已存在于哈希表中，则说明找到了两个数之和为 target，直接返回它们的下标。\n",
    "#否则，将当前元素及其下标存入哈希表中。\n",
    "#该算法的时间复杂度为 O(n)，因为每个元素仅被遍历一次，哈希表的插入和查询操作均为 O(1)。\n",
    "def two_sum(nums, target):\n",
    "    num_map = {} \n",
    "    for i, num in enumerate(nums):\n",
    "        complement = target - num\n",
    "        if complement in num_map:\n",
    "            return [num_map[complement], i]\n",
    "        num_map[num] = i\n",
    "    return []  \n",
    "\n",
    "print(two_sum([2, 7, 11, 15], 9))  \n",
    "print(two_sum([3, 2, 4], 6))      \n",
    "print(two_sum([3, 3], 6))          \n",
    "\n",
    "# your algorithm time complexity is: O(n)"
   ]
  },
  {
   "cell_type": "markdown",
   "metadata": {},
   "source": [
    "## 问题 3:   \n",
    "\n",
    "> 栈是一种常用的数据结构，编译器中通常使用栈来实现表达式求值。\n",
    ">\n",
    "> 以表达式 $3+5 \\times 8-6$​ 为例。编译器使用两个栈来完成运算，即一个栈保持操作数，另一个栈保存运算符。\n",
    ">\n",
    "> 1. 从左向右遍历表达式，遇到数字就压入操作数栈；\n",
    ">\n",
    "> 2. 遇到运算符，就与运算符栈的栈顶元素进行比较。如果比运算符栈顶元素的优先级高，就将当前运算符压入栈；如果比运算符栈顶元素的优先级低或者相同，从运算符栈中取栈顶运算符，从操作数栈的栈顶取 2 个操作数，然后进行计算，再把计算完的结果压入操作数栈，继续比较。\n",
    ">\n",
    "> 下图是 $3+5 \\times 8-6$  这个表达式的计算过程：\n",
    "\n",
    "![figure](./fig/hw2q3.png)\n",
    "\n",
    "根据上述原理，请设计一个算法完成表达式的运算，当输入为表达式字符串，返回对应的计算结果。分析算法设计思路，计算时间复杂度，并基于python编程实现\n",
    "\n",
    "**note：**\n",
    "\n",
    "1. 假设输入的表达式只会出现加（“+”），减 “-”， 乘“*”，除 “/” 四个运算符, 表达式中只会出现正整数\n",
    "2. python中` str.isdigit()`函数可以判断字符串str是否为数字，\n",
    "\n",
    "\n",
    "\n",
    "e.g. :\n",
    "---\n",
    "\n",
    "1. 输入：“$3+5 * 8 -6$”   输出：37\n",
    "\n",
    "2. 输入：“$34+13*9 + 44-12/3$”  输出：191"
   ]
  },
  {
   "cell_type": "markdown",
   "metadata": {},
   "source": [
    "idea：\n",
    "\n",
    "算法设计思路：\n",
    "首先对输入表达式进行预处理，去除空格。随后一次遍历表达式，对连续的数字字符进行组合形成完整数字并压入操作数栈，同时遇到运算符时，将其与运算符栈顶元素进行优先级比较；若当前运算符优先级低于或等于栈顶运算符，则依次弹出栈顶运算符并结合操作数栈中的数字进行计算，直至栈为空或遇到更高优先级的运算符，再将当前运算符压入栈中。遍历完表达式后，对剩余运算符依次弹出并计算，最终操作数栈中剩余的数字即为表达式的计算结果。\n",
    "\n",
    "时间复杂度：\n",
    "遍历表达式的操作复杂度为 O(n)。每个运算符在处理过程中最多只会被入栈一次和出栈一次，其处理时间也不会超过 O(n)。\n",
    "整个算法总时间复杂度为 O(n)。"
   ]
  },
  {
   "cell_type": "code",
   "execution_count": 22,
   "metadata": {},
   "outputs": [
    {
     "name": "stdout",
     "output_type": "stream",
     "text": [
      "37\n",
      "191\n"
     ]
    }
   ],
   "source": [
    "# add your idea here \n",
    "# 算法设计思路：\n",
    "# 首先对输入表达式进行预处理，去除空格。随后一次遍历表达式，对连续的数字字符进行组合形成完整数字并压入操作数栈，\n",
    "# 同时遇到运算符时，将其与运算符栈顶元素进行优先级比较；若当前运算符优先级低于或等于栈顶运算符，\n",
    "# 则依次弹出栈顶运算符并结合操作数栈中的数字进行计算，直至栈为空或遇到更高优先级的运算符，\n",
    "# 再将当前运算符压入栈中。遍历完表达式后，对剩余运算符依次弹出并计算，最终操作数栈中剩余的数字即为表达式的计算结果。\n",
    "\n",
    "# 时间复杂度：\n",
    "# 遍历表达式的操作复杂度为 O(n)。每个运算符在处理过程中最多只会被入栈一次和出栈一次，其处理时间也不会超过 O(n)。\n",
    "# 整个算法总时间复杂度为 O(n)。\n",
    "def evaluate_expression(s):\n",
    "    def process_operator(operand_stack, operator_stack):\n",
    "        op = operator_stack.pop()\n",
    "        right = operand_stack.pop()\n",
    "        left = operand_stack.pop()\n",
    "        if op == '+':\n",
    "            res = left + right\n",
    "        elif op == '-':\n",
    "            res = left - right\n",
    "        elif op == '*':\n",
    "            res = left * right\n",
    "        elif op == '/':\n",
    "            res = left // right\n",
    "        operand_stack.append(res)\n",
    "    \n",
    "    s = s.replace(' ', '')\n",
    "    precedence = {'+': 1, '-': 1, '*': 2, '/': 2}\n",
    "    operand_stack = []\n",
    "    operator_stack = []\n",
    "    i, n = 0, len(s)\n",
    "    \n",
    "    while i < n:\n",
    "        if s[i].isdigit():\n",
    "            j = i\n",
    "            while j < n and s[j].isdigit():\n",
    "                j += 1\n",
    "            num = int(s[i:j])\n",
    "            operand_stack.append(num)\n",
    "            i = j\n",
    "        else:\n",
    "            current_op = s[i]\n",
    "            while operator_stack and precedence[current_op] <= precedence[operator_stack[-1]]:\n",
    "                process_operator(operand_stack, operator_stack)\n",
    "            operator_stack.append(current_op)\n",
    "            i += 1\n",
    "    \n",
    "    while operator_stack:\n",
    "        process_operator(operand_stack, operator_stack)\n",
    "    \n",
    "    return operand_stack[0]\n",
    "\n",
    "print(evaluate_expression(\"3 + 5 * 8 - 6\"))         \n",
    "print(evaluate_expression(\"34 + 13 * 9 + 44 - 12/3\"))\n",
    "\n",
    "\n",
    "# your algorithm time complexity is:  O(n)\n"
   ]
  },
  {
   "cell_type": "markdown",
   "metadata": {},
   "source": [
    "## 问题 4:  \n",
    "\n",
    "> 星球碰撞问题：现有n个星球，在同一条直线上运行，如数组A所示，元素的绝对值表示星球的质量，负数表示星球自右向左运动，正数表示星球自左向右运动，当两个星球相撞的时候，质量小的会消失，大的保持不变，**质量相同的两个星球碰撞后自右向左运动的星球消失，自左向右的星球保持不变**，假设所有星球的速度大小相同。\n",
    ">\n",
    "> $ A=[23,-8, 9, -3, -7, 9, -23, 22] $\n",
    "\n",
    "请设计一个算法模拟星球的运行情况，输出最终的星球存续情况（输出一个数组），分析算法设计思路，计算时间复杂度，并基于python编程实现。\n",
    "\n",
    "e.g.\n",
    "---\n",
    "1.  输入： A=[-3,-6,2,8, 5,-8,9,-2,1]， 输出：[-3, -6, 2, 8, 9, 1]\n",
    "\n",
    "2. 输入：A=[23,-8, 9, -3, -7, 9, -23, 22], 输出：[23, 22]\n",
    "\n"
   ]
  },
  {
   "cell_type": "markdown",
   "metadata": {},
   "source": [
    "idea：\n",
    "\n",
    "算法设计思路\n",
    "栈用于保存当前存活的星球。遍历数组时，若当前星球向右运动，直接入栈；若向左运动，则需与栈顶元素比较。当遇到向左运动的星球时，需检查栈顶元素：若栈顶元素向右且质量小于当前负数的绝对值，弹出栈顶元素。若栈顶元素向右且质量大于当前负数的绝对值，当前负数被消灭。若质量相等，当前负数被消灭，栈顶元素保留。当栈为空或栈顶元素为负数时，当前负数入栈。\n",
    "\n",
    "时间复杂度分析\n",
    "每个元素最多入栈和出栈一次，时间复杂度为O(n)，其中n为数组长度。"
   ]
  },
  {
   "cell_type": "code",
   "execution_count": 18,
   "metadata": {},
   "outputs": [
    {
     "name": "stdout",
     "output_type": "stream",
     "text": [
      "[-3, -6, 2, 9, 1]\n",
      "[22]\n"
     ]
    }
   ],
   "source": [
    "# add your idea here \n",
    "# 算法设计思路\n",
    "# 栈用于保存当前存活的星球。遍历数组时，若当前星球向右运动，直接入栈；\n",
    "# 若向左运动，则需与栈顶元素比较。当遇到向左运动的星球时，需检查栈顶元素：\n",
    "# 若栈顶元素向右且质量小于当前负数的绝对值，弹出栈顶元素。\n",
    "# 若栈顶元素向右且质量大于当前负数的绝对值，当前负数被消灭。\n",
    "# 若质量相等，当前负数被消灭，栈顶元素保留。当栈为空或栈顶元素为负数时，当前负数入栈。\n",
    "\n",
    "# 时间复杂度分析\n",
    "# 每个元素最多入栈和出栈一次，时间复杂度为O(n)，其中n为数组长度。\n",
    "def collide_planets_correct(A):\n",
    "    stack = []\n",
    "    for num in A:\n",
    "        if num > 0:\n",
    "            stack.append(num)\n",
    "        else:\n",
    "            while True:\n",
    "                if not stack:\n",
    "                    stack.append(num)\n",
    "                    break\n",
    "                top = stack[-1]\n",
    "                if top < 0:\n",
    "                    stack.append(num)\n",
    "                    break\n",
    "                if top < -num:\n",
    "                    stack.pop()\n",
    "                elif top == -num:\n",
    "                    stack.pop()  \n",
    "                    break\n",
    "                else:\n",
    "                    break\n",
    "    return stack\n",
    "\n",
    "\n",
    "print(collide_planets_correct([-3, -6, 2, 8, 5, -8, 9, -2, 1]))  \n",
    "print(collide_planets_correct([23, -8, 9, -3, -7, 9, -23, 22]))\n",
    "# your algorithm time complexity is: O(n)"
   ]
  },
  {
   "cell_type": "markdown",
   "metadata": {},
   "source": [
    "## 问题 5 \n",
    "\n",
    "> 给定一个无序数组nums=[9,-3,-10,0,9,7,33]，请建立一个二叉搜索树存储数组中的所有元素，之后删除二叉树中的元素“0”，再使用中序遍历输出二叉搜索树中的所有元素。\n",
    "\n",
    "使用python编程完成上述任务，并计算时间复杂度\n"
   ]
  },
  {
   "cell_type": "code",
   "execution_count": 3,
   "metadata": {},
   "outputs": [
    {
     "name": "stdout",
     "output_type": "stream",
     "text": [
      "中序遍历结果： [-10, -3, 7, 9, 9, 33]\n"
     ]
    }
   ],
   "source": [
    "# add your idea here\n",
    "# 算法设计思路：首先遍历输入数组，逐一将元素插入到空的二叉搜索树中，即每次插入时自根节点出发，\n",
    "# 按大小关系递归进入左右子树直至找到空位；\n",
    "# 树建成后，定位并删除值为 0 的节点：若为叶子节点则直接移除，若仅有一侧子树则用唯一子节点替换，\n",
    "# 否则用右子树中最小节点（中序后继）覆盖再删除后继节点；\n",
    "# 最后对余下结构执行中序遍历。\n",
    "\n",
    "# 时间复杂度分析\n",
    "# 平均情况下，构建 BST 时每次插入平均需要沿高度 O(log n) 的路径，插入 n 个元素合计 O(n log n)；\n",
    "# 删除节点平均也是沿高度 O(log n) 定位并重连子树；中序遍历访问所有节点 O(n)；\n",
    "# 平均情况下，总时间复杂度是 O(n log n)\n",
    "# 最坏情况下，当插入顺序极端导致树退化成链表，每次插入或删除都要遍历 O(n) 的路径，\n",
    "# 构建阶段即退化为 O(1+2+…+n)=O(n²)，删除和遍历分别是 O(n) 和 O(n)，因此最坏总耗时为 O(n²)。\n",
    "\n",
    "class Node:\n",
    "    def __init__(self, val):\n",
    "        self.val = val\n",
    "        self.left = None\n",
    "        self.right = None\n",
    "\n",
    "def insert(root, key):\n",
    "    if root is None:\n",
    "        return Node(key)\n",
    "    if key < root.val:\n",
    "        root.left = insert(root.left, key)\n",
    "    else:\n",
    "        root.right = insert(root.right, key)\n",
    "    return root\n",
    "\n",
    "def find_min(node):\n",
    "    while node.left:\n",
    "        node = node.left\n",
    "    return node\n",
    "\n",
    "def delete_node(root, key):\n",
    "    if root is None:\n",
    "        return None\n",
    "    if key < root.val:\n",
    "        root.left = delete_node(root.left, key)\n",
    "    elif key > root.val:\n",
    "        root.right = delete_node(root.right, key)\n",
    "    else:\n",
    "        if not root.left and not root.right:\n",
    "            return None\n",
    "        if not root.left:\n",
    "            return root.right\n",
    "        if not root.right:\n",
    "            return root.left\n",
    "        successor = find_min(root.right)\n",
    "        root.val = successor.val\n",
    "        root.right = delete_node(root.right, successor.val)\n",
    "    return root\n",
    "\n",
    "def inorder_traversal(root, res):\n",
    "    if root:\n",
    "        inorder_traversal(root.left, res)\n",
    "        res.append(root.val)\n",
    "        inorder_traversal(root.right, res)\n",
    "    return res\n",
    "\n",
    "if __name__ == \"__main__\":\n",
    "    nums = [9, -3, -10, 0, 9, 7, 33]\n",
    "    root = None\n",
    "    for x in nums:\n",
    "        root = insert(root, x)\n",
    "    root = delete_node(root, 0)\n",
    "    result = inorder_traversal(root, [])\n",
    "    print(\"中序遍历结果：\", result)\n",
    "\n",
    "# your algorithm time complexity is:平均情况下，总时间复杂度是 O(n log n)，最坏总耗时为 O(n²)。"
   ]
  },
  {
   "cell_type": "markdown",
   "metadata": {},
   "source": [
    "## 问题 6  \n",
    "\n",
    "> 给定一个包含大写字母和小写字母的字符串 s ，返回 字符串包含的 **最长的回文子串的长度** 。请注意 区分大小写 。比如 \"Aa\" 不能当做一个回文字符串。\n",
    ">\n",
    "\n",
    "请设计一个算法解决上述问题，只需要输出最长回文子串的长度，分析算法设计思路，计算时间复杂度，并基于python编程实现\n",
    "\n",
    "e.g. 输入： s=\"adccaccd\"，  输出：7。 最长回文子串为：\"dccaccd\", 长度为7\n"
   ]
  },
  {
   "cell_type": "markdown",
   "metadata": {},
   "source": [
    "idea： \n",
    "算法设计思路:\n",
    "任意一个回文串，其中心是对称的。我们可以枚举所有可能的中心点，以这些中心点为起始，向两边扩展，直到不能继续匹配为止。由于中心可以是一个字符或两个字符之间的位置，所以总共会有 2n−1 个中心。\n",
    "时间复杂度:\n",
    "每个中心向左右扩展最多 O(n) 次，因此整体时间复杂度是 O(n²)。"
   ]
  },
  {
   "cell_type": "code",
   "execution_count": 21,
   "metadata": {},
   "outputs": [
    {
     "name": "stdout",
     "output_type": "stream",
     "text": [
      "最长回文子串长度为: 7\n",
      "最长回文子串长度为: 7\n"
     ]
    }
   ],
   "source": [
    "# add your idea here:\n",
    "# 算法设计思路:\n",
    "# 任意一个回文串，其中心是对称的。我们可以枚举所有可能的中心点，以这些中心点为起始，向两边扩展，直到不能继续匹配为止。\n",
    "# 由于中心可以是一个字符或两个字符之间的位置，所以总共会有 2n−1 个中心。\n",
    "# 时间复杂度:\n",
    "# 每个中心向左右扩展最多 O(n) 次，因此整体时间复杂度是 O(n²)。\n",
    "def longest_palindrome_length(s: str) -> int:\n",
    "    def expand_from_center(left: int, right: int) -> int:\n",
    "        while left >= 0 and right < len(s) and s[left] == s[right]:\n",
    "            left -= 1\n",
    "            right += 1\n",
    "        return right - left - 1 \n",
    "\n",
    "    max_len = 0\n",
    "    for i in range(len(s)):\n",
    "        len1 = expand_from_center(i, i)\n",
    "        len2 = expand_from_center(i, i + 1)\n",
    "        max_len = max(max_len, len1, len2)\n",
    "    \n",
    "    return max_len\n",
    "\n",
    "s = \"adccaccd\"\n",
    "s2 = \"dccaccd\"\n",
    "print(\"最长回文子串长度为:\", longest_palindrome_length(s)) \n",
    "print(\"最长回文子串长度为:\", longest_palindrome_length(s2)) \n",
    "\n",
    "# your algorithm time complexity is: O(n²)"
   ]
  },
  {
   "cell_type": "markdown",
   "metadata": {},
   "source": [
    "## 问题 7 \n",
    "\n",
    "> 沿一条长河流分散着n座房子。你可以把这条河想象成一条轴，房子是由它们在这条轴上的坐标按顺序排列的。你的公司想在河边的特定地点设置手机基站，这样每户人家都在距离基站4公里的范围内。输入可以看作为一个升序数组，数组元素的取值为大于等于0的正整数，你需要输出最小基站的数目，基站的位置。\n",
    "\n",
    "1. 给出一个时间复杂度为$O(n$) 的算法，使所使用的基站数量最小化，分析算法设计思路，使用python编程实现\n",
    "2. 证明1.中算法产生了最优解决方案。\n",
    "\n",
    "e.g. \n",
    "\n",
    "输入： [1, 5, 12, 33, 34,35]  输出：基站数目为3， 基站位置为[1，12，33]\n",
    "\n"
   ]
  },
  {
   "cell_type": "markdown",
   "metadata": {},
   "source": [
    "idea：\n",
    "算法设计思路:\n",
    "从左到右处理每个房子。对于当前未被覆盖的最左侧房子，将基站设在此处，覆盖范围为该位置到其右侧8公里.找到所有在当前基站覆盖范围内的房子，跳过这些房子，继续处理下一个未被覆盖的。\n",
    "\n",
    "时间复杂度分析:\n",
    "每个房子最多被访问一次，时间复杂度为 O(n)。"
   ]
  },
  {
   "cell_type": "code",
   "execution_count": 17,
   "metadata": {},
   "outputs": [
    {
     "name": "stdout",
     "output_type": "stream",
     "text": [
      "输入：[1, 5, 12, 33, 34, 35] 输出：基站数目为3，基站位置为[1, 12, 33]\n"
     ]
    }
   ],
   "source": [
    "# add your idea here \n",
    "# 算法设计思路:\n",
    "# 从左到右处理每个房子。对于当前未被覆盖的最左侧房子，将基站设在此处，覆盖范围为该位置到其右侧8公里.\n",
    "# 找到所有在当前基站覆盖范围内的房子，跳过这些房子，继续处理下一个未被覆盖的。\n",
    "\n",
    "# 时间复杂度分析:\n",
    "# 每个房子最多被访问一次，时间复杂度为 O(n)。\n",
    "def min_base_stations(houses):\n",
    "    if not houses:\n",
    "        return 0, []\n",
    "    \n",
    "    n = len(houses)\n",
    "    stations = []\n",
    "    i = 0\n",
    "    \n",
    "    while i < n:\n",
    "        current = houses[i]\n",
    "        stations.append(current)\n",
    "        cover_until = current + 8\n",
    "        while i < n and houses[i] <= cover_until:\n",
    "            i += 1\n",
    "    return len(stations), stations\n",
    "\n",
    "houses1 = [1, 5, 12, 33, 34, 35]\n",
    "count1, pos1 = min_base_stations(houses1)\n",
    "print(f\"输入：{houses1} 输出：基站数目为{count1}，基站位置为{pos1}\")\n",
    "# your algorithm time complexity is: O(n)"
   ]
  },
  {
   "cell_type": "markdown",
   "metadata": {},
   "source": [
    "## 问题 8  \n",
    "\n",
    "> 给定由n个正整数组成的一个集合$S = \\{a_1, a_2，···，a_n\\}$和一个正整数W，设计一个算法确定是否存在S的一个子集 $K \\subseteq S$, 使K中所有数之和为 $W$, 如果存在返回“True”，否则返回“False”\n",
    "\n",
    "请设计一个时间复杂度为$O(nW)$动态规划算法，解决上述问题，分析算法的设计思路，并且基于python编程实现（不需要输出子集）。\n",
    "\n",
    "e.g. \n",
    "\n",
    "输入：S = {1,4,7,3,5}， W = 11，输出：True。   因为K可以是{4,7}。\n",
    "\n"
   ]
  },
  {
   "cell_type": "markdown",
   "metadata": {},
   "source": [
    "idea：\n",
    "\n",
    "算法设计思路\n",
    "\n",
    "使用一维数组 dp，其中 dp[j] 表示是否存在子集的和为 j。dp[0] = True，其余初始化为 False。对于每个元素 a，从后向前遍历 dp 数组，若 dp[j - a] 为 True，则更新 dp[j] 为 True。最终 dp[W] 即为是否存在和为 W 的子集。\n",
    "\n",
    "时间复杂度分析\n",
    "\n",
    "每个元素遍历一次，每次遍历最多更新 W 次状态，总时间复杂度为 O(nW)。"
   ]
  },
  {
   "cell_type": "code",
   "execution_count": 20,
   "metadata": {},
   "outputs": [
    {
     "name": "stdout",
     "output_type": "stream",
     "text": [
      "True\n"
     ]
    }
   ],
   "source": [
    "# add your idea here\n",
    "\n",
    "# 算法设计思路\n",
    "\n",
    "# 使用一维数组 dp，其中 dp[j] 表示是否存在子集的和为 j。dp[0] = True，其余初始化为 False。\n",
    "# 对于每个元素 a，从后向前遍历 dp 数组，若 dp[j - a] 为 True，则更新 dp[j] 为 True。\n",
    "# 最终 dp[W] 即为是否存在和为 W 的子集。\n",
    "\n",
    "# 时间复杂度分析\n",
    "\n",
    "# 每个元素遍历一次，每次遍历最多更新 W 次状态，总时间复杂度为 O(nW)。\n",
    "def subset_sum(S, W):\n",
    "    dp = [False] * (W + 1)\n",
    "    dp[0] = True \n",
    "    for a in S:\n",
    "        if a > W:\n",
    "            continue \n",
    "        for j in range(W, a - 1, -1):\n",
    "            if dp[j - a]:\n",
    "                dp[j] = True\n",
    "    return dp[W]\n",
    "\n",
    "S = [1, 4, 7, 3, 5]\n",
    "W = 11\n",
    "print(subset_sum(S, W)) \n",
    "# your algorithm time complexity is: O(nW)"
   ]
  },
  {
   "cell_type": "markdown",
   "metadata": {},
   "source": [
    "\n",
    "\n",
    "## 问题 9 \n",
    "\n",
    "> 给定一个n个物品的集合。物体的重量为$w_1, w_2，…、w_n$，物品的价值分别是$v_1、v_2、…v_n$。给你**两个**重量为 $c$ 的背包。如果你带了一个东西，它可以放在一个背包里，也可以放在另一个背包里，但不能同时放在两个背包里。所有权重和价值都是正整数。\n",
    "\n",
    "1. 设计一个时间复杂度为 $O(nc^2)$ 的动态规划算法，确定可以放入两个背包的物体的最大价值。分析算法设计思路，并基于python编程实现\n",
    "2. \\* 修改1中的算法，输出每个背包的内容（物品对应下标）。\n",
    "\n",
    "e.g.: \n",
    "\n",
    "输入 V=[1,3,2,5,8,7], W=[1,3,2,5,8,7], c=7, 输出：最大价值=14，背包装的物品为：[6] [4，3] （同一个背包中物品装入顺序对结果无影响）  \n"
   ]
  },
  {
   "cell_type": "markdown",
   "metadata": {},
   "source": [
    "idea：\n",
    "\n",
    "算法设计思路\n",
    "\n",
    "使用二维数组 dp[a][b]，表示两个背包剩余容量分别为 a 和 b 时的最大价值。初始时两个背包均为满容量 c，即 dp[c][c] = 0，其余为负无穷。对每个物品，尝试将其放入第一个或第二个背包，更新剩余容量和最大价值。遍历所有可能的剩余容量组合，找到最大价值。\n",
    "\n",
    "时间复杂度分析\n",
    "\n",
    "每个物品需要遍历所有可能的剩余容量组合 (c+1)×(c+1)，总时间复杂度为 O(nc^2)"
   ]
  },
  {
   "cell_type": "code",
   "execution_count": 24,
   "metadata": {},
   "outputs": [
    {
     "name": "stdout",
     "output_type": "stream",
     "text": [
      "14\n"
     ]
    }
   ],
   "source": [
    "# add your idea here\n",
    "# 算法设计思路\n",
    "\n",
    "# 使用二维数组 dp[a][b]，表示两个背包剩余容量分别为 a 和 b 时的最大价值。\n",
    "# 初始时两个背包均为满容量 c，即 dp[c][c] = 0，其余为负无穷。\n",
    "# 对每个物品，尝试将其放入第一个或第二个背包，更新剩余容量和最大价值。\n",
    "# 遍历所有可能的剩余容量组合，找到最大价值。\n",
    "\n",
    "# 时间复杂度分析\n",
    "# 每个物品需要遍历所有可能的剩余容量组合 (c+1)×(c+1)，总时间复杂度为 O(nc^2)\n",
    "def max_value_two_knapsacks(V, W, c):\n",
    "    n = len(V)\n",
    "    prev_dp = [[-float('inf')] * (c + 1) for _ in range(c + 1)]\n",
    "    prev_dp[c][c] = 0  \n",
    "    \n",
    "    for i in range(n):\n",
    "        w, v = W[i], V[i]\n",
    "        curr_dp = [row[:] for row in prev_dp] \n",
    "        \n",
    "        for a in range(c + 1):\n",
    "            for b in range(c + 1):\n",
    "                if prev_dp[a][b] == -float('inf'):\n",
    "                    continue\n",
    "                new_a = a - w\n",
    "                if new_a >= 0:\n",
    "                    curr_dp[new_a][b] = max(curr_dp[new_a][b], prev_dp[a][b] + v)\n",
    "                new_b = b - w\n",
    "                if new_b >= 0:\n",
    "                    curr_dp[a][new_b] = max(curr_dp[a][new_b], prev_dp[a][b] + v)\n",
    "        \n",
    "        prev_dp = curr_dp\n",
    "    max_val = 0\n",
    "    for a in range(c + 1):\n",
    "        for b in range(c + 1):\n",
    "            if prev_dp[a][b] > max_val:\n",
    "                max_val = prev_dp[a][b]\n",
    "    return max_val if max_val != -float('inf') else 0\n",
    "\n",
    "V = [1, 3, 2, 5, 8, 7]\n",
    "W = [1, 3, 2, 5, 8, 7]\n",
    "c = 7\n",
    "print(max_value_two_knapsacks(V, W, c)) \n",
    "# your algorithm time complexity is: O(nc^2)"
   ]
  },
  {
   "cell_type": "markdown",
   "metadata": {},
   "source": [
    "## 问题 10 \n",
    "\n",
    "> 给定两个字符串 $x[1..n]$ 和 $y[1..m]$，我们想通过以下操作将 $x$ 变换为 $y$ :\n",
    ">\n",
    "> **插入**：在 $x$ 中插入一个字符(在任何位置)；**删除**：从 $x$ 中删除一个字符(在任何位置)； **替换**：用另一个字符替换 $x$ 中的一个字符。\n",
    ">\n",
    "> 例如: $x = abcd$, $y = bcfe$，\n",
    ">\n",
    "> - 将 $x$ 转换为 $y$ 的一种可能方法是：1. 删除 $x$ 开头的 $a$, $x$变成 $bcd$； 2. 将 $x$ 中的字符 $d$ 替换为字符 $f$。$x$ 变成 $bcf$； 3. 在 $x$ 的末尾插入字符 $e$。$x$ 变成 $bcfe$。\n",
    ">\n",
    "> - 另一种可能的方法：1. 删除 $x$ 开头的 $a$,  $x$ 变成 $bcd$； 2. 在 $x$ 中字符 $d$ 之前插入字符 $f$。$x$ 变成 $bcfd$。3. 将 $x$ 中的字符 $d$ 替换为字符 $e$。$x$ 变成 $bcfe$。\n",
    "\n",
    "设计一个时间复杂度为 $O(mn)$ 的算法，返回将 $x$ 转换为 $y$ 所需的最少操作次数。分析算法设计思路，并基于python编程实现。\n"
   ]
  },
  {
   "cell_type": "markdown",
   "metadata": {},
   "source": [
    "idea：\n",
    "\n",
    "算法设计思路：\n",
    "\n",
    "定义二维数组 dp[i][j]，表示将字符串 x 的前 i 个字符转换为 y 的前 j 个字符所需的最小操作次数。\n",
    "\n",
    "dp[0][j] = j：空字符串变为 y[0..j-1]，需插入 j 次。\n",
    "\n",
    "dp[i][0] = i：x[0..i-1] 变为空字符串，需删除 i 次。\n",
    "\n",
    "\n",
    "若 x[i-1] == y[j-1]，则 dp[i][j] = dp[i-1][j-1]。\n",
    "\n",
    "否则，dp[i][j] = 1 + min(dp[i-1][j-1], dp[i-1][j], dp[i][j-1])，分别对应替换、删除和插入操作。\n",
    "\n",
    "最终结果为 dp[m][n]，即将 x 转换为 y 的最小操作数。\n",
    "\n",
    "时间复杂度分析：\n",
    "每个字符对 (i, j) 仅计算一次，总时间复杂度为 O(nm)。"
   ]
  },
  {
   "cell_type": "code",
   "execution_count": 27,
   "metadata": {},
   "outputs": [
    {
     "name": "stdout",
     "output_type": "stream",
     "text": [
      "3\n"
     ]
    }
   ],
   "source": [
    "# add your idea here\n",
    "# 算法设计思路：\n",
    "# 定义二维数组 dp[i][j]，表示将字符串 x 的前 i 个字符转换为 y 的前 j 个字符所需的最小操作次数。\n",
    "# dp[0][j] = j：空字符串变为 y[0..j-1]，需插入 j 次。\n",
    "# dp[i][0] = i：x[0..i-1] 变为空字符串，需删除 i 次。\n",
    "# 若 x[i-1] == y[j-1]，则 dp[i][j] = dp[i-1][j-1]。\n",
    "# 否则，dp[i][j] = 1 + min(dp[i-1][j-1], dp[i-1][j], dp[i][j-1])，分别对应替换、删除和插入操作。\n",
    "# 最终结果为 dp[m][n]，即将 x 转换为 y 的最小操作数。\n",
    "\n",
    "# 时间复杂度分析：\n",
    "# 每个字符对 (i, j) 仅计算一次，总时间复杂度为 O(nm)。\n",
    "\n",
    "def min_edit_distance(x, y):\n",
    "    n, m = len(x), len(y)\n",
    "    dp = [[0] * (m + 1) for _ in range(n + 1)]\n",
    "    \n",
    "    for i in range(n + 1):\n",
    "        dp[i][0] = i\n",
    "    for j in range(m + 1):\n",
    "        dp[0][j] = j\n",
    "    \n",
    "    for i in range(1, n + 1):\n",
    "        for j in range(1, m + 1):\n",
    "            if x[i-1] == y[j-1]:\n",
    "                dp[i][j] = dp[i-1][j-1]\n",
    "            else:\n",
    "                replace = dp[i-1][j-1] + 1\n",
    "                delete = dp[i-1][j] + 1\n",
    "                insert = dp[i][j-1] + 1\n",
    "                dp[i][j] = min(replace, delete, insert)\n",
    "    \n",
    "    return dp[n][m]\n",
    "\n",
    "x = \"abcd\"\n",
    "y = \"bcfe\"\n",
    "print(min_edit_distance(x, y)) \n",
    "# your algorithm time complexity is: O(mn)"
   ]
  }
 ],
 "metadata": {
  "kernelspec": {
   "display_name": "Python 3 (ipykernel)",
   "language": "python",
   "name": "python3"
  },
  "language_info": {
   "codemirror_mode": {
    "name": "ipython",
    "version": 3
   },
   "file_extension": ".py",
   "mimetype": "text/x-python",
   "name": "python",
   "nbconvert_exporter": "python",
   "pygments_lexer": "ipython3",
   "version": "3.9.18"
  }
 },
 "nbformat": 4,
 "nbformat_minor": 2
}
