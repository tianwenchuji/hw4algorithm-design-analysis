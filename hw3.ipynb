{
 "cells": [
  {
   "cell_type": "markdown",
   "metadata": {},
   "source": [
    "## algorithm design and anlysis-2025 spring  homework 3\n",
    "**Deadline**：2025.5.14\n",
    "\n",
    "**name**: 刘璐\n",
    "\n",
    "\n",
    "note：\n",
    "---\n",
    "1. 带有\\*的题目，申请免上课的同学，必须完成，其他同学选作；\n",
    "2. 请独立完成，如求助了他人或者大模型，请著明，并且不可省略算法分析部分；\n",
    "4. 如若作答有雷同，全部取消成绩；\n",
    "3. 需要书面作答的题目，可以通过引用图片的形式添加，但是注意上传项目时包含所引用的图片的源文件；\n",
    "4. $log_n$ 默认表示$log_2{n}$;"
   ]
  },
  {
   "cell_type": "markdown",
   "metadata": {},
   "source": [
    "## 问题 1  \n",
    "\n",
    "请证明基于比较的排序算法计算复杂度下界为$\\Omega(nlogn)$"
   ]
  },
  {
   "cell_type": "markdown",
   "metadata": {},
   "source": [
    "you can refer a handwritten picture, pleas upload the picture in /fig/xxx.png\n",
    "answer："
   ]
  },
  {
   "cell_type": "markdown",
   "metadata": {},
   "source": [
    "<img src=\"./fig/hw3q1.jpg\" >"
   ]
  },
  {
   "cell_type": "markdown",
   "metadata": {},
   "source": [
    "## 问题 2 \n",
    "\n",
    "构建二叉搜索树\n",
    "\n",
    "> 1. 给定一个数组 [48, 33, 49, 47, 42, 46, 32], 构建一个二叉搜索树存储这些数据，请**绘制**所构建的**二叉搜索树**（标明结点的值）。\n",
    "> 2. 从第1问的二叉搜索树中删除33，请**绘制**删除33后的**二叉搜索树**（标明结点的值）\n",
    "\n",
    "- 推荐使用graphviz包绘制树的结构"
   ]
  },
  {
   "cell_type": "markdown",
   "metadata": {},
   "source": [
    "you can refer a handwritten picture, pleas upload the picture in /fig/xxx.png\n",
    "answer："
   ]
  },
  {
   "cell_type": "markdown",
   "metadata": {},
   "source": [
    "<img src=\"./fig/hw3q2.jpg\" >"
   ]
  },
  {
   "cell_type": "markdown",
   "metadata": {},
   "source": [
    "## 问题 3 \n",
    "\n",
    "> 下面是九门课程的开始和结束时间:\n",
    ">\n",
    "> [(9:00,12:30), (11:00,14:00), (13:00, 14:30), (9:00,10:30),(13:00, 14:30),(14:00,16:30), (15:00,16:30), (15:00,16:30), (9:00,10:30)]\n",
    ">\n",
    "> 请使用贪婪算法为这九门课分配教室，要求在同一天内安排这些课，并且每个教室同一时间只能安排一门课。\n",
    "\n",
    "**请问最少需要几间教室，罗列出每个教室安排的课程**"
   ]
  },
  {
   "cell_type": "markdown",
   "metadata": {},
   "source": [
    "idea：问题的本质是时间区间无重叠分配。首先课程按开始时间排序，确保依次处理最早开始的课程。然后用最小堆动态维护教室的结束时间，每次优先分配最早空闲的教室。"
   ]
  },
  {
   "cell_type": "code",
   "execution_count": 37,
   "metadata": {},
   "outputs": [
    {
     "name": "stdout",
     "output_type": "stream",
     "text": [
      "最少需要 3 间教室\n",
      "\n",
      "教室1: 课程4 (9:00-10:30) → 课程2 (11:00-14:00) → 课程6 (14:00-16:30)\n",
      "教室2: 课程9 (9:00-10:30) → 课程3 (13:00-14:30) → 课程7 (15:00-16:30)\n",
      "教室3: 课程1 (9:00-12:30) → 课程5 (13:00-14:30) → 课程8 (15:00-16:30)\n"
     ]
    }
   ],
   "source": [
    "def time_to_minutes(t):\n",
    "    hours, mins = map(int, t.split(':'))\n",
    "    return hours * 60 + mins\n",
    "\n",
    "courses = [\n",
    "    {\"id\": 1, \"start\": \"9:00\", \"end\": \"12:30\"},\n",
    "    {\"id\": 2, \"start\": \"11:00\", \"end\": \"14:00\"},\n",
    "    {\"id\": 3, \"start\": \"13:00\", \"end\": \"14:30\"},\n",
    "    {\"id\": 4, \"start\": \"9:00\", \"end\": \"10:30\"},\n",
    "    {\"id\": 5, \"start\": \"13:00\", \"end\": \"14:30\"},\n",
    "    {\"id\": 6, \"start\": \"14:00\", \"end\": \"16:30\"},\n",
    "    {\"id\": 7, \"start\": \"15:00\", \"end\": \"16:30\"},\n",
    "    {\"id\": 8, \"start\": \"15:00\", \"end\": \"16:30\"},\n",
    "    {\"id\": 9, \"start\": \"9:00\", \"end\": \"10:30\"},\n",
    "]\n",
    "\n",
    "sorted_courses = sorted(\n",
    "    courses,\n",
    "    key=lambda x: (time_to_minutes(x[\"start\"]), time_to_minutes(x[\"end\"]))\n",
    ")\n",
    "\n",
    "import heapq\n",
    "\n",
    "classrooms = []\n",
    "heap = []\n",
    "\n",
    "for course in sorted_courses:\n",
    "    start = time_to_minutes(course[\"start\"])\n",
    "    end = time_to_minutes(course[\"end\"])\n",
    "    c_id = course[\"id\"]\n",
    "    \n",
    "    if heap and heap[0][0] <= start:\n",
    "        current_end, classroom_idx = heapq.heappop(heap)\n",
    "        classrooms[classroom_idx].append(course)\n",
    "        heapq.heappush(heap, (end, classroom_idx))\n",
    "    else:\n",
    "        classrooms.append([course])\n",
    "        heapq.heappush(heap, (end, len(classrooms)-1))\n",
    "\n",
    "print(f\"最少需要 {len(classrooms)} 间教室\\n\")\n",
    "for i, room in enumerate(classrooms):\n",
    "    course_list = []\n",
    "    for c in room:\n",
    "        time_str = f\"{c['start']}-{c['end']}\"\n",
    "        course_list.append(f\"课程{c['id']} ({time_str})\")\n",
    "    print(f\"教室{i+1}: {' → '.join(course_list)}\")"
   ]
  },
  {
   "cell_type": "markdown",
   "metadata": {},
   "source": [
    "## 问题 4 \n",
    "\n",
    "> 爬楼梯问题：假设爬楼梯时你每次只能爬一阶或者爬两阶，问爬上n阶的楼梯，你一共有多少种方法\n",
    "\n",
    "请设计算法完成该问题，分析算法设计思路，计算时间复杂度，并基于python编程实现"
   ]
  },
  {
   "cell_type": "markdown",
   "metadata": {},
   "source": [
    "idea：爬楼梯问题满足递推关系：f(n) = f(n-1) + f(n-2)，即到达第n阶的方法数等于到达第n-1阶和第n-2阶的方法数之和。通过动态规划优化，仅保留前两阶的解，需遍历从3到n的每一步，所以时间复杂度为O(n)。"
   ]
  },
  {
   "cell_type": "code",
   "execution_count": 39,
   "metadata": {},
   "outputs": [
    {
     "name": "stdout",
     "output_type": "stream",
     "text": [
      "n=5时共有 8 种方法\n"
     ]
    }
   ],
   "source": [
    "# add your code here\n",
    "def climb_stairs(n):\n",
    "    if n == 1:\n",
    "        return 1\n",
    "    if n == 2:\n",
    "        return 2\n",
    "    a, b = 1, 2\n",
    "    for _ in range(3, n + 1):\n",
    "        a, b = b, a + b\n",
    "    return b\n",
    "\n",
    "n = 5\n",
    "print(f\"n={n}时共有 {climb_stairs(n)} 种方法\")\n",
    "# your algorithm time complexity is: O(n)"
   ]
  },
  {
   "cell_type": "markdown",
   "metadata": {},
   "source": [
    "## 问题 5 \n",
    "\n",
    "> 0-1背包问题：现在有4块大理石，每个大理石对应的重量和价值使用一个元组表示, 即（重量，价值），4块大理石的重量和价值为：[(5,10), (4,40), (6,30), (3, 50)], 假设你有一辆最大承重为9的小推车，请问使用这个小推车装大理石的最大价值为多少\n",
    "\n",
    "请设计一个算法解决该问题，分析算法设计思路，计算时间复杂度，并基于python编程实现"
   ]
  },
  {
   "cell_type": "markdown",
   "metadata": {},
   "source": [
    "idea：\n",
    "\n",
    "算法设计思路\n",
    "\n",
    "dp[w] 表示承重为 w 时的最大价值。对每个物品，从最大承重反向更新 dp，确保每个物品仅被选取一次。若当前物品重量不超过承重，则比较装与不装的价值，保留较大者。\n",
    "\n",
    "时间复杂度\n",
    "\n",
    "外层循环遍历所有物品（共 n 个），时间复杂度为 O(n)。\n",
    "\n",
    "内层循环遍历背包容量（从 W 到当前物品重量），时间复杂度为 O(W)。\n",
    "\n",
    "总操作次数为 n×W，因此时间复杂度为 O(n⋅W)，其中 n为物品数，W为最大承重。"
   ]
  },
  {
   "cell_type": "code",
   "execution_count": 40,
   "metadata": {},
   "outputs": [
    {
     "name": "stdout",
     "output_type": "stream",
     "text": [
      "最大价值为: 90\n"
     ]
    }
   ],
   "source": [
    "# add your code here\n",
    "def knapsack():\n",
    "    items = [(5, 10), (4, 40), (6, 30), (3, 50)]\n",
    "    W = 9\n",
    "    dp = [0] * (W + 1)\n",
    "    for weight, value in items:\n",
    "        for w in range(W, weight - 1, -1):\n",
    "            dp[w] = max(dp[w], dp[w - weight] + value)\n",
    "    return dp[W]\n",
    "\n",
    "print(\"最大价值为:\", knapsack())\n",
    "# your algorithm time complexity is:𝑂(n⋅W)"
   ]
  },
  {
   "cell_type": "markdown",
   "metadata": {},
   "source": [
    "## 问题 6 \n",
    "给定 `n` 个非负整数表示每个宽度为 `1` 的柱子的高度图，计算按此排列的柱子，下雨之后能接多少雨水。\n",
    "\n",
    "\n",
    "\n",
    "<div style=\"text-align:center;width:800px;\"> <img alt=\"\" src=\"./fig/hw3q6.png\"> </div>\n",
    "\n",
    "请分析算法设计思路，计算时间复杂度，并基于python编程实现"
   ]
  },
  {
   "cell_type": "markdown",
   "metadata": {},
   "source": [
    "idea：\n",
    "\n",
    "算法设计思路\n",
    "\n",
    "通过动态规划预处理每个位置的左右最大高度，left_max数组记录每个位置左侧（不包括自身）的最大高度。right_max数组记录每个位置右侧（不包括自身）的最大高度。每个位置可接水量为 min(left_max[i], right_max[i]) - height[i]，若结果为正，则累加。\n",
    "\n",
    "时间复杂度\n",
    "\n",
    "需三次线性遍历数组，因此时间复杂度为 O(n)。"
   ]
  },
  {
   "cell_type": "code",
   "execution_count": 42,
   "metadata": {},
   "outputs": [
    {
     "name": "stdout",
     "output_type": "stream",
     "text": [
      "6\n",
      "9\n"
     ]
    }
   ],
   "source": [
    "# add your code here\n",
    "def trap(height):\n",
    "    n = len(height)\n",
    "    if n <= 2:\n",
    "        return 0\n",
    "    left_max = [0] * n\n",
    "    for i in range(1, n):\n",
    "        left_max[i] = max(left_max[i-1], height[i-1])\n",
    "    right_max = [0] * n\n",
    "    for i in range(n-2, -1, -1):\n",
    "        right_max[i] = max(right_max[i+1], height[i+1])\n",
    "    total = 0\n",
    "    for i in range(n):\n",
    "        water = min(left_max[i], right_max[i]) - height[i]\n",
    "        if water > 0:\n",
    "            total += water\n",
    "    return total\n",
    "\n",
    "print(trap([0,1,0,2,1,0,1,3,2,1,2,1]))  \n",
    "print(trap([4,2,0,3,2,5]))         \n",
    "# your algorithm time complexity is: O(n)"
   ]
  },
  {
   "cell_type": "markdown",
   "metadata": {},
   "source": [
    "## 问题 7 \n",
    "\n",
    "**股票投资组合优化**： 假设你是一位投资者，想要在不同的股票中分配你的资金，以最大化你的投资回报。每只股票都有不同的预期收益率和风险。你的目标是选择一些股票，使得总投资金额不超过你的预算，并且预期收益最大化。\n",
    "\n",
    "在这个情况下，你可以将每只股票视为一个“物品”，其重量为投资金额，价值为预期收益率。然后，你可以使用分级背包问题的方法来选择部分股票，以便在预算内获得最大的预期收益。\n",
    "\n",
    "以下是一个简化的例子：\n",
    "\n",
    "假设你有以下三只股票可供选择：\n",
    "\n",
    "1. 股票 A：投资金额 5000 美元，预期收益率 10%\n",
    "2. 股票 B：投资金额 3000 美元，预期收益率 8%\n",
    "3. 股票 C：投资金额 2000 美元，预期收益率 12%\n",
    "\n",
    "请设计算法找到最优投资方案，分析算法设计思路，计算时间复杂度，并基于python编程实现"
   ]
  },
  {
   "cell_type": "markdown",
   "metadata": {},
   "source": [
    "idea：\n",
    "\n",
    "算法设计思路\n",
    "\n",
    "将每只股票视为0-1背包中的物品，其中，股票的投资金额视为重量，投资金额 × 预期收益率视为价值，使用一维数组 dp[w] 表示预算为 w 时的最大收益。从后向前更新状态，确保每个股票仅被选一次。\n",
    "\n",
    "时间复杂度\n",
    "\n",
    "时间复杂度为 O(nW)，其中 n 为股票数量，W 为预算总额。"
   ]
  },
  {
   "cell_type": "code",
   "execution_count": 44,
   "metadata": {},
   "outputs": [
    {
     "name": "stdout",
     "output_type": "stream",
     "text": [
      "最大收益为: 740\n"
     ]
    }
   ],
   "source": [
    "# add your code here\n",
    "def max_profit(budget, stocks):\n",
    "    values = [int(amount * rate) for amount, rate in stocks]\n",
    "    weights = [amount for amount, _ in stocks]\n",
    "    dp = [0] * (budget + 1)\n",
    "    for i in range(len(stocks)):\n",
    "        weight = weights[i]\n",
    "        value = values[i]\n",
    "        for w in range(budget, weight - 1, -1):\n",
    "            if dp[w - weight] + value > dp[w]:\n",
    "                dp[w] = dp[w - weight] + value\n",
    "    return dp[budget]\n",
    "\n",
    "stocks = [(5000, 0.10), (3000, 0.08), (2000, 0.12)]\n",
    "budget = 8000\n",
    "print(\"最大收益为:\", max_profit(budget, stocks)) \n",
    "# your algorithm time complexity is:O(nW)"
   ]
  },
  {
   "cell_type": "markdown",
   "metadata": {},
   "source": [
    "## 问题 8\n",
    "\n",
    "给你二叉搜索树的根节点 root ，该树中的恰好两个节点的值被错误地交换。请在不改变其结构的情况下，恢复这棵树 。设计算法解决该问题，分析算法设计思路，计算时间复杂度，并基于python编程实现\n",
    "\n",
    "e.g.:\n",
    "---\n",
    "1.\n",
    "\n",
    "<div style=\"text-align:center;width:200px;\"> <img alt=\"\" src=\"./fig/hw3q9-1.jpg\"> </div>\n",
    "输入：root = [1,3,null,null,2]， 输出为：[3,1,null,null,2]， \n",
    "\n",
    "解释：3 不能是 1 的左孩子，因为 3 > 1 。交换 1 和 3 使二叉搜索树有效。\n",
    "\n",
    "2.\n",
    "\n",
    " <div style=\"text-align:center;width:200px;\"> <img alt=\"\" src=\"./fig/hw3q9-1.jpg\"> </div>\n",
    "输入： root=[3,1,4,null,null,2]， 输出为：[2,1,4,null,null,3]\n",
    "\n",
    "解释：2 不能在 3 的右子树中，因为 2 < 3 。交换 2 和 3 使二叉搜索树有效。"
   ]
  },
  {
   "cell_type": "markdown",
   "metadata": {},
   "source": [
    "idea：\n",
    "\n",
    "算法设计思路\n",
    "\n",
    "利用二叉搜索树（BST）中序遍历递增的特性，定位被错误交换的两个节点，中序遍历过程中记录前驱节点 prev，当发现当前节点值 < prev 值 时，标记异常点。若首次异常，记录 first = prev 和 second = 当前节点（处理相邻节点错误情况）。若二次异常，更新 second = 当前节点（处理非相邻节点错误情况）。遍历完成后，交换 first 和 second 的值，恢复BST性质。\n",
    "\n",
    "时间复杂度\n",
    "\n",
    "仅需一次中序遍历，时间复杂度为 O(n)。"
   ]
  },
  {
   "cell_type": "code",
   "execution_count": 52,
   "metadata": {},
   "outputs": [
    {
     "name": "stdout",
     "output_type": "stream",
     "text": [
      "示例1恢复后的树: [3, 1, None, None, 2]\n",
      "示例2恢复后的树: [2, 1, 4, None, None, 3]\n"
     ]
    }
   ],
   "source": [
    "# add your code here\n",
    "class TreeNode:\n",
    "    def __init__(self, val=0, left=None, right=None):\n",
    "        self.val = val\n",
    "        self.left = left\n",
    "        self.right = right\n",
    "\n",
    "class Solution:\n",
    "    def recoverTree(self, root: TreeNode) -> None:\n",
    "        self.prev = None\n",
    "        self.first = None\n",
    "        self.second = None\n",
    "        self.inorder(root)\n",
    "        self.first.val, self.second.val = self.second.val, self.first.val\n",
    "\n",
    "    def inorder(self, node):\n",
    "        if not node:\n",
    "            return\n",
    "        self.inorder(node.left)\n",
    "        if self.prev and node.val < self.prev.val:\n",
    "            if not self.first:\n",
    "                self.first = self.prev\n",
    "            self.second = node\n",
    "        self.prev = node\n",
    "        self.inorder(node.right)\n",
    "\n",
    "def tree_to_list(root):\n",
    "    if not root:\n",
    "        return []\n",
    "    result = []\n",
    "    queue = [root]\n",
    "    while queue:\n",
    "        current = queue.pop(0)\n",
    "        if current:\n",
    "            result.append(current.val)\n",
    "            queue.append(current.left)\n",
    "            queue.append(current.right)\n",
    "        else:\n",
    "            result.append(None)\n",
    "    while result and result[-1] is None:\n",
    "        result.pop()\n",
    "    return result\n",
    "\n",
    "def build_tree(nodes):\n",
    "    if not nodes:\n",
    "        return None\n",
    "    root = TreeNode(nodes[0])\n",
    "    queue = [root]\n",
    "    index = 1\n",
    "    while queue and index < len(nodes):\n",
    "        current = queue.pop(0)\n",
    "        if nodes[index] is not None:\n",
    "            current.left = TreeNode(nodes[index])\n",
    "            queue.append(current.left)\n",
    "        index += 1\n",
    "        if index < len(nodes) and nodes[index] is not None:\n",
    "            current.right = TreeNode(nodes[index])\n",
    "            queue.append(current.right)\n",
    "        index += 1\n",
    "    return root\n",
    "\n",
    "root1 = build_tree([1,3,None,None,2])\n",
    "Solution().recoverTree(root1)\n",
    "print(\"示例1恢复后的树:\", tree_to_list(root1)) \n",
    "\n",
    "root2 = build_tree([3,1,4,None,None,2])\n",
    "Solution().recoverTree(root2)\n",
    "print(\"示例2恢复后的树:\", tree_to_list(root2)) \n",
    "# your algorithm time complexity is:O(n)"
   ]
  },
  {
   "cell_type": "markdown",
   "metadata": {},
   "source": [
    "## 问题 9  \n",
    "\n",
    "给你一个二叉树的根节点 root ，树中每个节点都存放有一个 0 到 9 之间的数字。每条从根节点到叶节点的路径都代表一个数字：\n",
    "\n",
    "> 例如，从根节点到叶节点的路径 1 -> 2 -> 3 表示数字 123 。\n",
    "\n",
    "设计一个算法计算从根节点到叶节点生成的所有数字之和 ，分析算法设计思路，计算时间复杂度，并基于python编程实现\n",
    "\n",
    "叶节点:是指没有子节点的节点。\n",
    "\n",
    "e.g.:\n",
    "---\n",
    "1.\n",
    "\n",
    " <div style=\"text-align:center;width:200px;\"> <img alt=\"figure\" src=\"./fig/hw3q10-1.jpg\"> </div>\n",
    "\n",
    " 输入：root = [1,2,3], 输出：25\n",
    "\n",
    "解释：从根到叶子节点路径 1->2 代表数字 12，1->3 代表数字 13，因此和为 12 + 13 = 25 。\n",
    "\n",
    "2.\n",
    "\n",
    " <div style=\"text-align:center;width:200px;\"> <img alt=\"figure\" src=\"./fig/hw3q10-2.jpg\"> </div>\n",
    "\n",
    " 输入：root = [4,9,0,5,1], 输出：1026\n",
    "\n",
    "解释：从根到叶子节点路径 4->9->5 代表数字 495，4->9->1 代表数字 491，4->0 代表数字 40。因此和为 495 + 491 + 40 = 1026 。"
   ]
  },
  {
   "cell_type": "markdown",
   "metadata": {},
   "source": [
    "idea：\n",
    "\n",
    "算法设计思路\n",
    "\n",
    "通过深度优先搜索（DFS）遍历所有根到叶子的路径，并实时计算路径对应的数值，从根节点开始，每层递归将当前路径值乘以10，加上当前节点值。若当前节点为叶子节点（无左右子节点），将累计值加入总和。节点为空时，回溯，继续搜索其他路径。\n",
    "\n",
    "时间复杂度\n",
    "\n",
    "每个节点仅访问一次，时间复杂度为 O(n)。"
   ]
  },
  {
   "cell_type": "code",
   "execution_count": 49,
   "metadata": {},
   "outputs": [
    {
     "name": "stdout",
     "output_type": "stream",
     "text": [
      "25\n",
      "1026\n"
     ]
    }
   ],
   "source": [
    "# add your code here\n",
    "class TreeNode:\n",
    "    def __init__(self, val=0, left=None, right=None):\n",
    "        self.val = val\n",
    "        self.left = left\n",
    "        self.right = right\n",
    "\n",
    "class Solution:\n",
    "    def sumNumbers(self, root: TreeNode) -> int:\n",
    "        total = [0]\n",
    "        def dfs(node, current_sum):\n",
    "            if not node:\n",
    "                return\n",
    "            current_sum = current_sum * 10 + node.val\n",
    "            if not node.left and not node.right:\n",
    "                total[0] += current_sum\n",
    "            dfs(node.left, current_sum)\n",
    "            dfs(node.right, current_sum)\n",
    "        dfs(root, 0)\n",
    "        return total[0]\n",
    "\n",
    "root1 = TreeNode(1, TreeNode(2), TreeNode(3))\n",
    "print(Solution().sumNumbers(root1)) \n",
    "\n",
    "root2 = TreeNode(4, \n",
    "                TreeNode(9, TreeNode(5), TreeNode(1)), \n",
    "                TreeNode(0))\n",
    "print(Solution().sumNumbers(root2))\n",
    "# your algorithm time complexity is:O(n)"
   ]
  },
  {
   "cell_type": "markdown",
   "metadata": {},
   "source": [
    "## 问题 10  \n",
    "\n",
    "给你一个二叉树的根节点 root ， 检查它是否轴对称。\n",
    "\n",
    "1. 分析算法设计思路，计算时间复杂度，并基于python编程实现\n",
    "2. \\* 设计使用递归和迭代两种方法解决这个问题，计算时间复杂度，并基于python编程实现\n",
    "\n",
    "e.g.:\n",
    "---\n",
    "1.\n",
    "\n",
    " <div style=\"text-align:center;width:200px;\"> <img alt=\"figure\" src=\"./fig/hw3q11-1.png\"> </div>\n",
    "\n",
    " 输入：root = [1,2,2,3,4,4,3]， 输出：true\n",
    "\n",
    "解释：二叉树 [1,2,2,3,4,4,3] 对称。\n",
    "\n",
    "2.\n",
    "\n",
    " <div style=\"text-align:center;width:200px;\"> <img alt=\"figure\" src=\"./fig/hw3q11-2.png\"> </div>\n",
    "\n",
    " 输入：root = [1,2,2,null,3,null,3]， 输出：false"
   ]
  },
  {
   "cell_type": "markdown",
   "metadata": {},
   "source": [
    "idea\n",
    "\n",
    "算法设计思路\n",
    "\n",
    "要判断二叉树是否轴对称，可以通过递归比较其左右子树的镜像对称性来实现。递归的核心在于逐层验证对称节点：若当前比较的两个节点均为空，则视为对称；若其中仅一个为空，则不对称。在节点值相等的前提下，需进一步递归检查左子树的左节点与右子树的右节点是否对称，以及左子树的右节点与右子树的左节点是否对称。\n",
    "\n",
    "时间复杂度\n",
    "\n",
    "每个节点仅被访问一次，时间复杂度为 O(n)。"
   ]
  },
  {
   "cell_type": "code",
   "execution_count": 55,
   "metadata": {},
   "outputs": [
    {
     "name": "stdout",
     "output_type": "stream",
     "text": [
      "True\n",
      "False\n"
     ]
    }
   ],
   "source": [
    "# add your code here\n",
    "class TreeNode:\n",
    "    def __init__(self, val=0, left=None, right=None):\n",
    "        self.val = val\n",
    "        self.left = left\n",
    "        self.right = right\n",
    "\n",
    "class Solution:\n",
    "    def isSymmetric(self, root: TreeNode) -> bool:\n",
    "        if not root:\n",
    "            return True\n",
    "        return self.compare(root.left, root.right)\n",
    "    \n",
    "    def compare(self, left, right):\n",
    "        if not left and not right:\n",
    "            return True\n",
    "        if not left or not right:\n",
    "            return False\n",
    "        return (\n",
    "            left.val == right.val \n",
    "            and self.compare(left.left, right.right) \n",
    "            and self.compare(left.right, right.left)\n",
    ")\n",
    "    \n",
    "def build_tree(nodes):\n",
    "    if not nodes:\n",
    "        return None\n",
    "    root = TreeNode(nodes[0])\n",
    "    queue = [root]\n",
    "    index = 1\n",
    "    while queue and index < len(nodes):\n",
    "        current = queue.pop(0)\n",
    "        if nodes[index] is not None:\n",
    "            current.left = TreeNode(nodes[index])\n",
    "            queue.append(current.left)\n",
    "        index += 1\n",
    "        if index < len(nodes) and nodes[index] is not None:\n",
    "            current.right = TreeNode(nodes[index])\n",
    "            queue.append(current.right)\n",
    "        index += 1\n",
    "    return root\n",
    "\n",
    "root1 = build_tree([1,2,2,3,4,4,3])\n",
    "print(Solution().isSymmetric(root1))\n",
    "\n",
    "root2 = build_tree([1,2,2,None,3,None,3])\n",
    "print(Solution().isSymmetric(root2))\n",
    "# your algorithm time complexity is:O(n)"
   ]
  },
  {
   "cell_type": "markdown",
   "metadata": {},
   "source": [
    "## 问题 11  \n",
    "\n",
    "给你一个由 '1'（陆地）和 '0'（水）组成的的二维网格，请你计算网格中岛屿的数量。岛屿总是被水包围，并且每座岛屿只能由水平方向和/或竖直方向上相邻的陆地连接形成。\n",
    "\n",
    "此外，你可以假设该网格的四条边均被水包围。\n",
    "\n",
    "分析算法设计思路，计算时间复杂度，并基于python编程实现\n",
    "\n",
    "e.g.:\n",
    "---\n",
    "1.\n",
    "输入：grid = [\n",
    "\n",
    "    [\"1\",\"1\",\"1\",\"1\",\"0\"],\n",
    "\n",
    "    [\"1\",\"1\",\"0\",\"1\",\"0\"], \n",
    "\n",
    "    [\"1\",\"1\",\"0\",\"0\",\"0\"], \n",
    "\n",
    "    [\"0\",\"0\",\"0\",\"0\",\"0\"]  \n",
    "\n",
    "]\n",
    "\n",
    "输出：1\n",
    "\n",
    "2.\n",
    "输入：grid = [\n",
    "\n",
    "    [\"1\",\"1\",\"0\",\"0\",\"0\"],\n",
    "\n",
    "    [\"1\",\"1\",\"0\",\"0\",\"0\"],\n",
    "\n",
    "    [\"0\",\"0\",\"1\",\"0\",\"0\"],\n",
    "\n",
    "    [\"0\",\"0\",\"0\",\"1\",\"1\"]\n",
    "\n",
    "]\n",
    "\n",
    "输出：3"
   ]
  },
  {
   "cell_type": "markdown",
   "metadata": {},
   "source": [
    "idea:\n",
    "\n",
    "算法设计思路\n",
    "\n",
    "通过深度优先搜索（DFS）或广度优先搜索（BFS）遍历网格，将相连的陆地标记为已访问，统计独立的陆地区域数量，逐行逐列检查每个单元格，当遇到未访问的陆地（'1'）时，启动DFS/BFS，标记所有相邻陆地为已访问（直接修改为'0'）。每次触发搜索时，岛屿数量加1。\n",
    "\n",
    "时间复杂度\n",
    "\n",
    "每个单元格最多被访问两次（遍历和标记）。时间复杂度为 O(m×n)，其中 m 为行数，n 为列数。"
   ]
  },
  {
   "cell_type": "code",
   "execution_count": 57,
   "metadata": {},
   "outputs": [
    {
     "name": "stdout",
     "output_type": "stream",
     "text": [
      "1\n",
      "3\n"
     ]
    }
   ],
   "source": [
    "# add your code here\n",
    "def numIslands(grid):\n",
    "    if not grid:\n",
    "        return 0\n",
    "\n",
    "    def dfs(i, j):\n",
    "        if i < 0 or i >= len(grid) or j < 0 or j >= len(grid[0]) or grid[i][j] == '0':\n",
    "            return\n",
    "        grid[i][j] = '0'  \n",
    "        dfs(i + 1, j)    \n",
    "        dfs(i - 1, j)      \n",
    "        dfs(i, j + 1)      \n",
    "        dfs(i, j - 1)     \n",
    "\n",
    "    count = 0\n",
    "    for i in range(len(grid)):\n",
    "        for j in range(len(grid[0])):\n",
    "            if grid[i][j] == '1':\n",
    "                dfs(i, j)\n",
    "                count += 1\n",
    "    return count\n",
    "\n",
    "\n",
    "grid1 = [\n",
    "    [\"1\",\"1\",\"1\",\"1\",\"0\"],\n",
    "    [\"1\",\"1\",\"0\",\"1\",\"0\"], \n",
    "    [\"1\",\"1\",\"0\",\"0\",\"0\"], \n",
    "    [\"0\",\"0\",\"0\",\"0\",\"0\"]  \n",
    "]\n",
    "print(numIslands(grid1))\n",
    "\n",
    "grid2 = [\n",
    "    [\"1\",\"1\",\"0\",\"0\",\"0\"],\n",
    "    [\"1\",\"1\",\"0\",\"0\",\"0\"],\n",
    "    [\"0\",\"0\",\"1\",\"0\",\"0\"],\n",
    "    [\"0\",\"0\",\"0\",\"1\",\"1\"]\n",
    "]\n",
    "print(numIslands(grid2)) \n",
    "# your algorithm time complexity is: O(m×n)"
   ]
  }
 ],
 "metadata": {
  "kernelspec": {
   "display_name": "Python 3 (ipykernel)",
   "language": "python",
   "name": "python3"
  },
  "language_info": {
   "codemirror_mode": {
    "name": "ipython",
    "version": 3
   },
   "file_extension": ".py",
   "mimetype": "text/x-python",
   "name": "python",
   "nbconvert_exporter": "python",
   "pygments_lexer": "ipython3",
   "version": "3.9.18"
  }
 },
 "nbformat": 4,
 "nbformat_minor": 2
}
